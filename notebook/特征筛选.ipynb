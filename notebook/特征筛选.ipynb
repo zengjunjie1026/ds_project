{
 "cells": [
  {
   "cell_type": "markdown",
   "metadata": {
    "hidden": true
   },
   "source": [
    "## Importing libraries"
   ]
  },
  {
   "cell_type": "code",
   "execution_count": 1,
   "metadata": {
    "execution": {
     "iopub.execute_input": "2022-05-07T13:27:57.150257Z",
     "iopub.status.busy": "2022-05-07T13:27:57.149535Z",
     "iopub.status.idle": "2022-05-07T13:27:57.354708Z",
     "shell.execute_reply": "2022-05-07T13:27:57.353905Z",
     "shell.execute_reply.started": "2022-05-07T13:27:57.150181Z"
    },
    "hidden": true
   },
   "outputs": [],
   "source": [
    "import pandas as pd\n",
    "import numpy as np\n",
    "import seaborn as sns\n",
    "import matplotlib.pyplot as plt"
   ]
  },
  {
   "cell_type": "code",
   "execution_count": 2,
   "metadata": {
    "_kg_hide-input": true,
    "execution": {
     "iopub.execute_input": "2022-05-07T12:27:33.803085Z",
     "iopub.status.busy": "2022-05-07T12:27:33.802696Z",
     "iopub.status.idle": "2022-05-07T12:27:35.182151Z",
     "shell.execute_reply": "2022-05-07T12:27:35.181237Z",
     "shell.execute_reply.started": "2022-05-07T12:27:33.802986Z"
    },
    "hidden": true
   },
   "outputs": [],
   "source": [
    "from sklearn import preprocessing\n",
    "import itertools\n",
    "from sklearn.metrics import precision_recall_curve,average_precision_score, accuracy_score,roc_curve,roc_auc_score,confusion_matrix,classification_report\n",
    "from sklearn.model_selection import cross_val_score, train_test_split\n",
    "from sklearn.ensemble import RandomForestClassifier\n",
    "from sklearn.linear_model import LogisticRegression\n",
    "from sklearn.naive_bayes import GaussianNB"
   ]
  },
  {
   "cell_type": "markdown",
   "metadata": {
    "hidden": true
   },
   "source": [
    "## Importing dataset"
   ]
  },
  {
   "cell_type": "code",
   "execution_count": 3,
   "metadata": {
    "_kg_hide-input": true,
    "execution": {
     "iopub.execute_input": "2022-05-07T13:28:02.118897Z",
     "iopub.status.busy": "2022-05-07T13:28:02.118589Z",
     "iopub.status.idle": "2022-05-07T13:28:03.209774Z",
     "shell.execute_reply": "2022-05-07T13:28:03.208806Z",
     "shell.execute_reply.started": "2022-05-07T13:28:02.118865Z"
    },
    "hidden": true,
    "jupyter": {
     "source_hidden": true
    }
   },
   "outputs": [],
   "source": [
    "df = pd.read_csv('../data/heart_2020_cleaned.csv')"
   ]
  },
  {
   "cell_type": "markdown",
   "metadata": {
    "hidden": true
   },
   "source": [
    "## Exploratory Analysis"
   ]
  },
  {
   "cell_type": "code",
   "execution_count": 4,
   "metadata": {
    "_kg_hide-input": true,
    "execution": {
     "iopub.execute_input": "2022-05-07T10:38:21.229944Z",
     "iopub.status.busy": "2022-05-07T10:38:21.229692Z",
     "iopub.status.idle": "2022-05-07T10:38:21.267952Z",
     "shell.execute_reply": "2022-05-07T10:38:21.267055Z",
     "shell.execute_reply.started": "2022-05-07T10:38:21.229915Z"
    },
    "hidden": true,
    "jupyter": {
     "source_hidden": true
    }
   },
   "outputs": [
    {
     "data": {
      "text/html": [
       "<div>\n",
       "<style scoped>\n",
       "    .dataframe tbody tr th:only-of-type {\n",
       "        vertical-align: middle;\n",
       "    }\n",
       "\n",
       "    .dataframe tbody tr th {\n",
       "        vertical-align: top;\n",
       "    }\n",
       "\n",
       "    .dataframe thead th {\n",
       "        text-align: right;\n",
       "    }\n",
       "</style>\n",
       "<table border=\"1\" class=\"dataframe\">\n",
       "  <thead>\n",
       "    <tr style=\"text-align: right;\">\n",
       "      <th></th>\n",
       "      <th>HeartDisease</th>\n",
       "      <th>BMI</th>\n",
       "      <th>Smoking</th>\n",
       "      <th>AlcoholDrinking</th>\n",
       "      <th>Stroke</th>\n",
       "      <th>PhysicalHealth</th>\n",
       "      <th>MentalHealth</th>\n",
       "      <th>DiffWalking</th>\n",
       "      <th>Sex</th>\n",
       "      <th>AgeCategory</th>\n",
       "      <th>Race</th>\n",
       "      <th>Diabetic</th>\n",
       "      <th>PhysicalActivity</th>\n",
       "      <th>GenHealth</th>\n",
       "      <th>SleepTime</th>\n",
       "      <th>Asthma</th>\n",
       "      <th>KidneyDisease</th>\n",
       "      <th>SkinCancer</th>\n",
       "    </tr>\n",
       "  </thead>\n",
       "  <tbody>\n",
       "    <tr>\n",
       "      <th>0</th>\n",
       "      <td>No</td>\n",
       "      <td>16.60</td>\n",
       "      <td>Yes</td>\n",
       "      <td>No</td>\n",
       "      <td>No</td>\n",
       "      <td>3.0</td>\n",
       "      <td>30.0</td>\n",
       "      <td>No</td>\n",
       "      <td>Female</td>\n",
       "      <td>55-59</td>\n",
       "      <td>White</td>\n",
       "      <td>Yes</td>\n",
       "      <td>Yes</td>\n",
       "      <td>Very good</td>\n",
       "      <td>5.0</td>\n",
       "      <td>Yes</td>\n",
       "      <td>No</td>\n",
       "      <td>Yes</td>\n",
       "    </tr>\n",
       "    <tr>\n",
       "      <th>1</th>\n",
       "      <td>No</td>\n",
       "      <td>20.34</td>\n",
       "      <td>No</td>\n",
       "      <td>No</td>\n",
       "      <td>Yes</td>\n",
       "      <td>0.0</td>\n",
       "      <td>0.0</td>\n",
       "      <td>No</td>\n",
       "      <td>Female</td>\n",
       "      <td>80 or older</td>\n",
       "      <td>White</td>\n",
       "      <td>No</td>\n",
       "      <td>Yes</td>\n",
       "      <td>Very good</td>\n",
       "      <td>7.0</td>\n",
       "      <td>No</td>\n",
       "      <td>No</td>\n",
       "      <td>No</td>\n",
       "    </tr>\n",
       "    <tr>\n",
       "      <th>2</th>\n",
       "      <td>No</td>\n",
       "      <td>26.58</td>\n",
       "      <td>Yes</td>\n",
       "      <td>No</td>\n",
       "      <td>No</td>\n",
       "      <td>20.0</td>\n",
       "      <td>30.0</td>\n",
       "      <td>No</td>\n",
       "      <td>Male</td>\n",
       "      <td>65-69</td>\n",
       "      <td>White</td>\n",
       "      <td>Yes</td>\n",
       "      <td>Yes</td>\n",
       "      <td>Fair</td>\n",
       "      <td>8.0</td>\n",
       "      <td>Yes</td>\n",
       "      <td>No</td>\n",
       "      <td>No</td>\n",
       "    </tr>\n",
       "    <tr>\n",
       "      <th>3</th>\n",
       "      <td>No</td>\n",
       "      <td>24.21</td>\n",
       "      <td>No</td>\n",
       "      <td>No</td>\n",
       "      <td>No</td>\n",
       "      <td>0.0</td>\n",
       "      <td>0.0</td>\n",
       "      <td>No</td>\n",
       "      <td>Female</td>\n",
       "      <td>75-79</td>\n",
       "      <td>White</td>\n",
       "      <td>No</td>\n",
       "      <td>No</td>\n",
       "      <td>Good</td>\n",
       "      <td>6.0</td>\n",
       "      <td>No</td>\n",
       "      <td>No</td>\n",
       "      <td>Yes</td>\n",
       "    </tr>\n",
       "    <tr>\n",
       "      <th>4</th>\n",
       "      <td>No</td>\n",
       "      <td>23.71</td>\n",
       "      <td>No</td>\n",
       "      <td>No</td>\n",
       "      <td>No</td>\n",
       "      <td>28.0</td>\n",
       "      <td>0.0</td>\n",
       "      <td>Yes</td>\n",
       "      <td>Female</td>\n",
       "      <td>40-44</td>\n",
       "      <td>White</td>\n",
       "      <td>No</td>\n",
       "      <td>Yes</td>\n",
       "      <td>Very good</td>\n",
       "      <td>8.0</td>\n",
       "      <td>No</td>\n",
       "      <td>No</td>\n",
       "      <td>No</td>\n",
       "    </tr>\n",
       "    <tr>\n",
       "      <th>5</th>\n",
       "      <td>Yes</td>\n",
       "      <td>28.87</td>\n",
       "      <td>Yes</td>\n",
       "      <td>No</td>\n",
       "      <td>No</td>\n",
       "      <td>6.0</td>\n",
       "      <td>0.0</td>\n",
       "      <td>Yes</td>\n",
       "      <td>Female</td>\n",
       "      <td>75-79</td>\n",
       "      <td>Black</td>\n",
       "      <td>No</td>\n",
       "      <td>No</td>\n",
       "      <td>Fair</td>\n",
       "      <td>12.0</td>\n",
       "      <td>No</td>\n",
       "      <td>No</td>\n",
       "      <td>No</td>\n",
       "    </tr>\n",
       "    <tr>\n",
       "      <th>6</th>\n",
       "      <td>No</td>\n",
       "      <td>21.63</td>\n",
       "      <td>No</td>\n",
       "      <td>No</td>\n",
       "      <td>No</td>\n",
       "      <td>15.0</td>\n",
       "      <td>0.0</td>\n",
       "      <td>No</td>\n",
       "      <td>Female</td>\n",
       "      <td>70-74</td>\n",
       "      <td>White</td>\n",
       "      <td>No</td>\n",
       "      <td>Yes</td>\n",
       "      <td>Fair</td>\n",
       "      <td>4.0</td>\n",
       "      <td>Yes</td>\n",
       "      <td>No</td>\n",
       "      <td>Yes</td>\n",
       "    </tr>\n",
       "    <tr>\n",
       "      <th>7</th>\n",
       "      <td>No</td>\n",
       "      <td>31.64</td>\n",
       "      <td>Yes</td>\n",
       "      <td>No</td>\n",
       "      <td>No</td>\n",
       "      <td>5.0</td>\n",
       "      <td>0.0</td>\n",
       "      <td>Yes</td>\n",
       "      <td>Female</td>\n",
       "      <td>80 or older</td>\n",
       "      <td>White</td>\n",
       "      <td>Yes</td>\n",
       "      <td>No</td>\n",
       "      <td>Good</td>\n",
       "      <td>9.0</td>\n",
       "      <td>Yes</td>\n",
       "      <td>No</td>\n",
       "      <td>No</td>\n",
       "    </tr>\n",
       "    <tr>\n",
       "      <th>8</th>\n",
       "      <td>No</td>\n",
       "      <td>26.45</td>\n",
       "      <td>No</td>\n",
       "      <td>No</td>\n",
       "      <td>No</td>\n",
       "      <td>0.0</td>\n",
       "      <td>0.0</td>\n",
       "      <td>No</td>\n",
       "      <td>Female</td>\n",
       "      <td>80 or older</td>\n",
       "      <td>White</td>\n",
       "      <td>No, borderline diabetes</td>\n",
       "      <td>No</td>\n",
       "      <td>Fair</td>\n",
       "      <td>5.0</td>\n",
       "      <td>No</td>\n",
       "      <td>Yes</td>\n",
       "      <td>No</td>\n",
       "    </tr>\n",
       "    <tr>\n",
       "      <th>9</th>\n",
       "      <td>No</td>\n",
       "      <td>40.69</td>\n",
       "      <td>No</td>\n",
       "      <td>No</td>\n",
       "      <td>No</td>\n",
       "      <td>0.0</td>\n",
       "      <td>0.0</td>\n",
       "      <td>Yes</td>\n",
       "      <td>Male</td>\n",
       "      <td>65-69</td>\n",
       "      <td>White</td>\n",
       "      <td>No</td>\n",
       "      <td>Yes</td>\n",
       "      <td>Good</td>\n",
       "      <td>10.0</td>\n",
       "      <td>No</td>\n",
       "      <td>No</td>\n",
       "      <td>No</td>\n",
       "    </tr>\n",
       "  </tbody>\n",
       "</table>\n",
       "</div>"
      ],
      "text/plain": [
       "  HeartDisease    BMI Smoking AlcoholDrinking Stroke  PhysicalHealth  \\\n",
       "0           No  16.60     Yes              No     No             3.0   \n",
       "1           No  20.34      No              No    Yes             0.0   \n",
       "2           No  26.58     Yes              No     No            20.0   \n",
       "3           No  24.21      No              No     No             0.0   \n",
       "4           No  23.71      No              No     No            28.0   \n",
       "5          Yes  28.87     Yes              No     No             6.0   \n",
       "6           No  21.63      No              No     No            15.0   \n",
       "7           No  31.64     Yes              No     No             5.0   \n",
       "8           No  26.45      No              No     No             0.0   \n",
       "9           No  40.69      No              No     No             0.0   \n",
       "\n",
       "   MentalHealth DiffWalking     Sex  AgeCategory   Race  \\\n",
       "0          30.0          No  Female        55-59  White   \n",
       "1           0.0          No  Female  80 or older  White   \n",
       "2          30.0          No    Male        65-69  White   \n",
       "3           0.0          No  Female        75-79  White   \n",
       "4           0.0         Yes  Female        40-44  White   \n",
       "5           0.0         Yes  Female        75-79  Black   \n",
       "6           0.0          No  Female        70-74  White   \n",
       "7           0.0         Yes  Female  80 or older  White   \n",
       "8           0.0          No  Female  80 or older  White   \n",
       "9           0.0         Yes    Male        65-69  White   \n",
       "\n",
       "                  Diabetic PhysicalActivity  GenHealth  SleepTime Asthma  \\\n",
       "0                      Yes              Yes  Very good        5.0    Yes   \n",
       "1                       No              Yes  Very good        7.0     No   \n",
       "2                      Yes              Yes       Fair        8.0    Yes   \n",
       "3                       No               No       Good        6.0     No   \n",
       "4                       No              Yes  Very good        8.0     No   \n",
       "5                       No               No       Fair       12.0     No   \n",
       "6                       No              Yes       Fair        4.0    Yes   \n",
       "7                      Yes               No       Good        9.0    Yes   \n",
       "8  No, borderline diabetes               No       Fair        5.0     No   \n",
       "9                       No              Yes       Good       10.0     No   \n",
       "\n",
       "  KidneyDisease SkinCancer  \n",
       "0            No        Yes  \n",
       "1            No         No  \n",
       "2            No         No  \n",
       "3            No        Yes  \n",
       "4            No         No  \n",
       "5            No         No  \n",
       "6            No        Yes  \n",
       "7            No         No  \n",
       "8           Yes         No  \n",
       "9            No         No  "
      ]
     },
     "execution_count": 4,
     "metadata": {},
     "output_type": "execute_result"
    }
   ],
   "source": [
    "df.head(10)"
   ]
  },
  {
   "cell_type": "code",
   "execution_count": 5,
   "metadata": {
    "execution": {
     "iopub.execute_input": "2022-05-07T10:38:21.269523Z",
     "iopub.status.busy": "2022-05-07T10:38:21.269306Z",
     "iopub.status.idle": "2022-05-07T10:38:21.773148Z",
     "shell.execute_reply": "2022-05-07T10:38:21.772144Z",
     "shell.execute_reply.started": "2022-05-07T10:38:21.269496Z"
    },
    "hidden": true
   },
   "outputs": [
    {
     "name": "stdout",
     "output_type": "stream",
     "text": [
      "<class 'pandas.core.frame.DataFrame'>\n",
      "RangeIndex: 319795 entries, 0 to 319794\n",
      "Data columns (total 18 columns):\n",
      " #   Column            Non-Null Count   Dtype  \n",
      "---  ------            --------------   -----  \n",
      " 0   HeartDisease      319795 non-null  object \n",
      " 1   BMI               319795 non-null  float64\n",
      " 2   Smoking           319795 non-null  object \n",
      " 3   AlcoholDrinking   319795 non-null  object \n",
      " 4   Stroke            319795 non-null  object \n",
      " 5   PhysicalHealth    319795 non-null  float64\n",
      " 6   MentalHealth      319795 non-null  float64\n",
      " 7   DiffWalking       319795 non-null  object \n",
      " 8   Sex               319795 non-null  object \n",
      " 9   AgeCategory       319795 non-null  object \n",
      " 10  Race              319795 non-null  object \n",
      " 11  Diabetic          319795 non-null  object \n",
      " 12  PhysicalActivity  319795 non-null  object \n",
      " 13  GenHealth         319795 non-null  object \n",
      " 14  SleepTime         319795 non-null  float64\n",
      " 15  Asthma            319795 non-null  object \n",
      " 16  KidneyDisease     319795 non-null  object \n",
      " 17  SkinCancer        319795 non-null  object \n",
      "dtypes: float64(4), object(14)\n",
      "memory usage: 43.9+ MB\n"
     ]
    }
   ],
   "source": [
    "df.info()"
   ]
  },
  {
   "cell_type": "code",
   "execution_count": 6,
   "metadata": {
    "_kg_hide-input": true,
    "execution": {
     "iopub.execute_input": "2022-05-07T10:38:21.775194Z",
     "iopub.status.busy": "2022-05-07T10:38:21.77498Z",
     "iopub.status.idle": "2022-05-07T10:38:21.854902Z",
     "shell.execute_reply": "2022-05-07T10:38:21.853983Z",
     "shell.execute_reply.started": "2022-05-07T10:38:21.775167Z"
    },
    "hidden": true,
    "jupyter": {
     "source_hidden": true
    }
   },
   "outputs": [
    {
     "data": {
      "text/html": [
       "<div>\n",
       "<style scoped>\n",
       "    .dataframe tbody tr th:only-of-type {\n",
       "        vertical-align: middle;\n",
       "    }\n",
       "\n",
       "    .dataframe tbody tr th {\n",
       "        vertical-align: top;\n",
       "    }\n",
       "\n",
       "    .dataframe thead th {\n",
       "        text-align: right;\n",
       "    }\n",
       "</style>\n",
       "<table border=\"1\" class=\"dataframe\">\n",
       "  <thead>\n",
       "    <tr style=\"text-align: right;\">\n",
       "      <th></th>\n",
       "      <th>BMI</th>\n",
       "      <th>PhysicalHealth</th>\n",
       "      <th>MentalHealth</th>\n",
       "      <th>SleepTime</th>\n",
       "    </tr>\n",
       "  </thead>\n",
       "  <tbody>\n",
       "    <tr>\n",
       "      <th>count</th>\n",
       "      <td>319795.000000</td>\n",
       "      <td>319795.00000</td>\n",
       "      <td>319795.000000</td>\n",
       "      <td>319795.000000</td>\n",
       "    </tr>\n",
       "    <tr>\n",
       "      <th>mean</th>\n",
       "      <td>28.325399</td>\n",
       "      <td>3.37171</td>\n",
       "      <td>3.898366</td>\n",
       "      <td>7.097075</td>\n",
       "    </tr>\n",
       "    <tr>\n",
       "      <th>std</th>\n",
       "      <td>6.356100</td>\n",
       "      <td>7.95085</td>\n",
       "      <td>7.955235</td>\n",
       "      <td>1.436007</td>\n",
       "    </tr>\n",
       "    <tr>\n",
       "      <th>min</th>\n",
       "      <td>12.020000</td>\n",
       "      <td>0.00000</td>\n",
       "      <td>0.000000</td>\n",
       "      <td>1.000000</td>\n",
       "    </tr>\n",
       "    <tr>\n",
       "      <th>25%</th>\n",
       "      <td>24.030000</td>\n",
       "      <td>0.00000</td>\n",
       "      <td>0.000000</td>\n",
       "      <td>6.000000</td>\n",
       "    </tr>\n",
       "    <tr>\n",
       "      <th>50%</th>\n",
       "      <td>27.340000</td>\n",
       "      <td>0.00000</td>\n",
       "      <td>0.000000</td>\n",
       "      <td>7.000000</td>\n",
       "    </tr>\n",
       "    <tr>\n",
       "      <th>75%</th>\n",
       "      <td>31.420000</td>\n",
       "      <td>2.00000</td>\n",
       "      <td>3.000000</td>\n",
       "      <td>8.000000</td>\n",
       "    </tr>\n",
       "    <tr>\n",
       "      <th>max</th>\n",
       "      <td>94.850000</td>\n",
       "      <td>30.00000</td>\n",
       "      <td>30.000000</td>\n",
       "      <td>24.000000</td>\n",
       "    </tr>\n",
       "  </tbody>\n",
       "</table>\n",
       "</div>"
      ],
      "text/plain": [
       "                 BMI  PhysicalHealth   MentalHealth      SleepTime\n",
       "count  319795.000000    319795.00000  319795.000000  319795.000000\n",
       "mean       28.325399         3.37171       3.898366       7.097075\n",
       "std         6.356100         7.95085       7.955235       1.436007\n",
       "min        12.020000         0.00000       0.000000       1.000000\n",
       "25%        24.030000         0.00000       0.000000       6.000000\n",
       "50%        27.340000         0.00000       0.000000       7.000000\n",
       "75%        31.420000         2.00000       3.000000       8.000000\n",
       "max        94.850000        30.00000      30.000000      24.000000"
      ]
     },
     "execution_count": 6,
     "metadata": {},
     "output_type": "execute_result"
    }
   ],
   "source": [
    "df.describe()"
   ]
  },
  {
   "cell_type": "code",
   "execution_count": 7,
   "metadata": {
    "_kg_hide-input": true,
    "execution": {
     "iopub.execute_input": "2022-05-07T10:38:21.856218Z",
     "iopub.status.busy": "2022-05-07T10:38:21.855983Z",
     "iopub.status.idle": "2022-05-07T10:38:23.100339Z",
     "shell.execute_reply": "2022-05-07T10:38:23.099355Z",
     "shell.execute_reply.started": "2022-05-07T10:38:21.856189Z"
    },
    "hidden": true,
    "jupyter": {
     "source_hidden": true
    }
   },
   "outputs": [
    {
     "data": {
      "text/html": [
       "<div>\n",
       "<style scoped>\n",
       "    .dataframe tbody tr th:only-of-type {\n",
       "        vertical-align: middle;\n",
       "    }\n",
       "\n",
       "    .dataframe tbody tr th {\n",
       "        vertical-align: top;\n",
       "    }\n",
       "\n",
       "    .dataframe thead th {\n",
       "        text-align: right;\n",
       "    }\n",
       "</style>\n",
       "<table border=\"1\" class=\"dataframe\">\n",
       "  <thead>\n",
       "    <tr style=\"text-align: right;\">\n",
       "      <th></th>\n",
       "      <th>HeartDisease</th>\n",
       "      <th>Smoking</th>\n",
       "      <th>AlcoholDrinking</th>\n",
       "      <th>Stroke</th>\n",
       "      <th>DiffWalking</th>\n",
       "      <th>Sex</th>\n",
       "      <th>AgeCategory</th>\n",
       "      <th>Race</th>\n",
       "      <th>Diabetic</th>\n",
       "      <th>PhysicalActivity</th>\n",
       "      <th>GenHealth</th>\n",
       "      <th>Asthma</th>\n",
       "      <th>KidneyDisease</th>\n",
       "      <th>SkinCancer</th>\n",
       "    </tr>\n",
       "  </thead>\n",
       "  <tbody>\n",
       "    <tr>\n",
       "      <th>count</th>\n",
       "      <td>319795</td>\n",
       "      <td>319795</td>\n",
       "      <td>319795</td>\n",
       "      <td>319795</td>\n",
       "      <td>319795</td>\n",
       "      <td>319795</td>\n",
       "      <td>319795</td>\n",
       "      <td>319795</td>\n",
       "      <td>319795</td>\n",
       "      <td>319795</td>\n",
       "      <td>319795</td>\n",
       "      <td>319795</td>\n",
       "      <td>319795</td>\n",
       "      <td>319795</td>\n",
       "    </tr>\n",
       "    <tr>\n",
       "      <th>unique</th>\n",
       "      <td>2</td>\n",
       "      <td>2</td>\n",
       "      <td>2</td>\n",
       "      <td>2</td>\n",
       "      <td>2</td>\n",
       "      <td>2</td>\n",
       "      <td>13</td>\n",
       "      <td>6</td>\n",
       "      <td>4</td>\n",
       "      <td>2</td>\n",
       "      <td>5</td>\n",
       "      <td>2</td>\n",
       "      <td>2</td>\n",
       "      <td>2</td>\n",
       "    </tr>\n",
       "    <tr>\n",
       "      <th>top</th>\n",
       "      <td>No</td>\n",
       "      <td>No</td>\n",
       "      <td>No</td>\n",
       "      <td>No</td>\n",
       "      <td>No</td>\n",
       "      <td>Female</td>\n",
       "      <td>65-69</td>\n",
       "      <td>White</td>\n",
       "      <td>No</td>\n",
       "      <td>Yes</td>\n",
       "      <td>Very good</td>\n",
       "      <td>No</td>\n",
       "      <td>No</td>\n",
       "      <td>No</td>\n",
       "    </tr>\n",
       "    <tr>\n",
       "      <th>freq</th>\n",
       "      <td>292422</td>\n",
       "      <td>187887</td>\n",
       "      <td>298018</td>\n",
       "      <td>307726</td>\n",
       "      <td>275385</td>\n",
       "      <td>167805</td>\n",
       "      <td>34151</td>\n",
       "      <td>245212</td>\n",
       "      <td>269653</td>\n",
       "      <td>247957</td>\n",
       "      <td>113858</td>\n",
       "      <td>276923</td>\n",
       "      <td>308016</td>\n",
       "      <td>289976</td>\n",
       "    </tr>\n",
       "  </tbody>\n",
       "</table>\n",
       "</div>"
      ],
      "text/plain": [
       "       HeartDisease Smoking AlcoholDrinking  Stroke DiffWalking     Sex  \\\n",
       "count        319795  319795          319795  319795      319795  319795   \n",
       "unique            2       2               2       2           2       2   \n",
       "top              No      No              No      No          No  Female   \n",
       "freq         292422  187887          298018  307726      275385  167805   \n",
       "\n",
       "       AgeCategory    Race Diabetic PhysicalActivity  GenHealth  Asthma  \\\n",
       "count       319795  319795   319795           319795     319795  319795   \n",
       "unique          13       6        4                2          5       2   \n",
       "top          65-69   White       No              Yes  Very good      No   \n",
       "freq         34151  245212   269653           247957     113858  276923   \n",
       "\n",
       "       KidneyDisease SkinCancer  \n",
       "count         319795     319795  \n",
       "unique             2          2  \n",
       "top               No         No  \n",
       "freq          308016     289976  "
      ]
     },
     "execution_count": 7,
     "metadata": {},
     "output_type": "execute_result"
    }
   ],
   "source": [
    "df.describe(include='object')"
   ]
  },
  {
   "cell_type": "code",
   "execution_count": 8,
   "metadata": {
    "execution": {
     "iopub.execute_input": "2022-05-07T10:38:23.102364Z",
     "iopub.status.busy": "2022-05-07T10:38:23.10205Z",
     "iopub.status.idle": "2022-05-07T10:38:23.140796Z",
     "shell.execute_reply": "2022-05-07T10:38:23.139996Z",
     "shell.execute_reply.started": "2022-05-07T10:38:23.102321Z"
    },
    "hidden": true
   },
   "outputs": [
    {
     "data": {
      "text/html": [
       "<div>\n",
       "<style scoped>\n",
       "    .dataframe tbody tr th:only-of-type {\n",
       "        vertical-align: middle;\n",
       "    }\n",
       "\n",
       "    .dataframe tbody tr th {\n",
       "        vertical-align: top;\n",
       "    }\n",
       "\n",
       "    .dataframe thead th {\n",
       "        text-align: right;\n",
       "    }\n",
       "</style>\n",
       "<table border=\"1\" class=\"dataframe\">\n",
       "  <thead>\n",
       "    <tr style=\"text-align: right;\">\n",
       "      <th></th>\n",
       "      <th>BMI</th>\n",
       "      <th>PhysicalHealth</th>\n",
       "      <th>MentalHealth</th>\n",
       "      <th>SleepTime</th>\n",
       "    </tr>\n",
       "  </thead>\n",
       "  <tbody>\n",
       "    <tr>\n",
       "      <th>BMI</th>\n",
       "      <td>1.000000</td>\n",
       "      <td>0.109788</td>\n",
       "      <td>0.064131</td>\n",
       "      <td>-0.051822</td>\n",
       "    </tr>\n",
       "    <tr>\n",
       "      <th>PhysicalHealth</th>\n",
       "      <td>0.109788</td>\n",
       "      <td>1.000000</td>\n",
       "      <td>0.287987</td>\n",
       "      <td>-0.061387</td>\n",
       "    </tr>\n",
       "    <tr>\n",
       "      <th>MentalHealth</th>\n",
       "      <td>0.064131</td>\n",
       "      <td>0.287987</td>\n",
       "      <td>1.000000</td>\n",
       "      <td>-0.119717</td>\n",
       "    </tr>\n",
       "    <tr>\n",
       "      <th>SleepTime</th>\n",
       "      <td>-0.051822</td>\n",
       "      <td>-0.061387</td>\n",
       "      <td>-0.119717</td>\n",
       "      <td>1.000000</td>\n",
       "    </tr>\n",
       "  </tbody>\n",
       "</table>\n",
       "</div>"
      ],
      "text/plain": [
       "                     BMI  PhysicalHealth  MentalHealth  SleepTime\n",
       "BMI             1.000000        0.109788      0.064131  -0.051822\n",
       "PhysicalHealth  0.109788        1.000000      0.287987  -0.061387\n",
       "MentalHealth    0.064131        0.287987      1.000000  -0.119717\n",
       "SleepTime      -0.051822       -0.061387     -0.119717   1.000000"
      ]
     },
     "execution_count": 8,
     "metadata": {},
     "output_type": "execute_result"
    }
   ],
   "source": [
    "df.corr()"
   ]
  },
  {
   "cell_type": "code",
   "execution_count": 9,
   "metadata": {
    "_kg_hide-input": true,
    "execution": {
     "iopub.execute_input": "2022-05-07T13:40:52.613194Z",
     "iopub.status.busy": "2022-05-07T13:40:52.612879Z",
     "iopub.status.idle": "2022-05-07T13:40:52.617861Z",
     "shell.execute_reply": "2022-05-07T13:40:52.616976Z",
     "shell.execute_reply.started": "2022-05-07T13:40:52.613161Z"
    },
    "hidden": true,
    "jupyter": {
     "source_hidden": true
    }
   },
   "outputs": [],
   "source": [
    "l=df.shape[0] ## no of observations"
   ]
  },
  {
   "cell_type": "markdown",
   "metadata": {
    "heading_collapsed": true,
    "hidden": true
   },
   "source": [
    "### Target (HeartDisease)"
   ]
  },
  {
   "cell_type": "code",
   "execution_count": 10,
   "metadata": {
    "_kg_hide-input": true,
    "execution": {
     "iopub.execute_input": "2022-05-07T13:40:58.752274Z",
     "iopub.status.busy": "2022-05-07T13:40:58.751748Z",
     "iopub.status.idle": "2022-05-07T13:40:58.808388Z",
     "shell.execute_reply": "2022-05-07T13:40:58.807467Z",
     "shell.execute_reply.started": "2022-05-07T13:40:58.752242Z"
    },
    "hidden": true,
    "jupyter": {
     "source_hidden": true
    }
   },
   "outputs": [
    {
     "data": {
      "text/plain": [
       "No     91.440454\n",
       "Yes     8.559546\n",
       "Name: HeartDisease, dtype: float64"
      ]
     },
     "execution_count": 10,
     "metadata": {},
     "output_type": "execute_result"
    }
   ],
   "source": [
    "df['HeartDisease'].value_counts()/l*100  #in percentage"
   ]
  },
  {
   "cell_type": "code",
   "execution_count": 11,
   "metadata": {
    "_kg_hide-input": true,
    "execution": {
     "iopub.execute_input": "2022-05-07T13:54:23.421581Z",
     "iopub.status.busy": "2022-05-07T13:54:23.420831Z",
     "iopub.status.idle": "2022-05-07T13:54:23.587887Z",
     "shell.execute_reply": "2022-05-07T13:54:23.587196Z",
     "shell.execute_reply.started": "2022-05-07T13:54:23.421548Z"
    },
    "hidden": true,
    "jupyter": {
     "source_hidden": true
    }
   },
   "outputs": [
    {
     "data": {
      "image/png": "[encoded data removed]",
      "text/plain": [
       "<Figure size 720x432 with 1 Axes>"
      ]
     },
     "metadata": {},
     "output_type": "display_data"
    }
   ],
   "source": [
    "fig,ax = plt.subplots(figsize=(10,6))\n",
    "labels = df['HeartDisease'].unique()\n",
    "\n",
    "ax.pie(df['HeartDisease'].value_counts(), labels=labels,autopct='%1.2f%%',textprops = {\"fontsize\":14})\n",
    "plt.show()"
   ]
  },
  {
   "cell_type": "code",
   "execution_count": 12,
   "metadata": {
    "execution": {
     "iopub.execute_input": "2022-05-07T13:54:03.364593Z",
     "iopub.status.busy": "2022-05-07T13:54:03.364164Z",
     "iopub.status.idle": "2022-05-07T13:54:03.368757Z",
     "shell.execute_reply": "2022-05-07T13:54:03.367935Z",
     "shell.execute_reply.started": "2022-05-07T13:54:03.364555Z"
    }
   },
   "outputs": [],
   "source": [
    "## 8.5% are at a risk of heart disease out of the total(319795). So we have to keep this in mind that it is a imbalanced dataset"
   ]
  },
  {
   "cell_type": "markdown",
   "metadata": {
    "hidden": true
   },
   "source": [
    "### Features"
   ]
  },
  {
   "cell_type": "code",
   "execution_count": 13,
   "metadata": {
    "_kg_hide-input": true,
    "execution": {
     "iopub.execute_input": "2022-05-07T13:36:29.970727Z",
     "iopub.status.busy": "2022-05-07T13:36:29.969876Z",
     "iopub.status.idle": "2022-05-07T13:36:30.042438Z",
     "shell.execute_reply": "2022-05-07T13:36:30.041499Z",
     "shell.execute_reply.started": "2022-05-07T13:36:29.970689Z"
    },
    "hidden": true,
    "jupyter": {
     "source_hidden": true
    }
   },
   "outputs": [],
   "source": [
    "dummy_df=df.copy()"
   ]
  },
  {
   "cell_type": "code",
   "execution_count": 14,
   "metadata": {
    "_kg_hide-input": true,
    "execution": {
     "iopub.execute_input": "2022-05-07T13:36:30.610969Z",
     "iopub.status.busy": "2022-05-07T13:36:30.610694Z",
     "iopub.status.idle": "2022-05-07T13:36:30.736782Z",
     "shell.execute_reply": "2022-05-07T13:36:30.736043Z",
     "shell.execute_reply.started": "2022-05-07T13:36:30.610938Z"
    },
    "hidden": true,
    "jupyter": {
     "source_hidden": true
    }
   },
   "outputs": [],
   "source": [
    "dummy_df.loc[dummy_df['HeartDisease'] =='Yes','HeartDisease']=1\n",
    "dummy_df.loc[dummy_df['HeartDisease'] == 'No','HeartDisease']=0"
   ]
  },
  {
   "cell_type": "markdown",
   "metadata": {
    "hidden": true
   },
   "source": [
    "#### BMI"
   ]
  },
  {
   "cell_type": "code",
   "execution_count": 15,
   "metadata": {
    "_kg_hide-input": true,
    "execution": {
     "iopub.execute_input": "2022-05-07T10:38:23.41543Z",
     "iopub.status.busy": "2022-05-07T10:38:23.415229Z",
     "iopub.status.idle": "2022-05-07T10:38:23.436656Z",
     "shell.execute_reply": "2022-05-07T10:38:23.43589Z",
     "shell.execute_reply.started": "2022-05-07T10:38:23.415404Z"
    },
    "hidden": true,
    "jupyter": {
     "source_hidden": true
    }
   },
   "outputs": [
    {
     "data": {
      "text/plain": [
       "count    319795.000000\n",
       "mean         28.325399\n",
       "std           6.356100\n",
       "min          12.020000\n",
       "25%          24.030000\n",
       "50%          27.340000\n",
       "75%          31.420000\n",
       "max          94.850000\n",
       "Name: BMI, dtype: float64"
      ]
     },
     "execution_count": 15,
     "metadata": {},
     "output_type": "execute_result"
    }
   ],
   "source": [
    "df['BMI'].describe()"
   ]
  },
  {
   "cell_type": "code",
   "execution_count": 16,
   "metadata": {
    "_kg_hide-input": true,
    "execution": {
     "iopub.execute_input": "2022-05-07T10:38:23.438279Z",
     "iopub.status.busy": "2022-05-07T10:38:23.437803Z",
     "iopub.status.idle": "2022-05-07T10:38:23.680559Z",
     "shell.execute_reply": "2022-05-07T10:38:23.679292Z",
     "shell.execute_reply.started": "2022-05-07T10:38:23.438244Z"
    },
    "hidden": true,
    "jupyter": {
     "source_hidden": true
    }
   },
   "outputs": [
    {
     "data": {
      "text/plain": [
       "<AxesSubplot:xlabel='BMI'>"
      ]
     },
     "execution_count": 16,
     "metadata": {},
     "output_type": "execute_result"
    },
    {
     "data": {
      "image/png": "[encoded data removed]",
      "text/plain": [
       "<Figure size 432x288 with 1 Axes>"
      ]
     },
     "metadata": {
      "needs_background": "light"
     },
     "output_type": "display_data"
    }
   ],
   "source": [
    "sns.boxplot(data=df, x='BMI')"
   ]
  },
  {
   "cell_type": "code",
   "execution_count": 17,
   "metadata": {
    "execution": {
     "iopub.execute_input": "2022-05-07T10:38:23.683003Z",
     "iopub.status.busy": "2022-05-07T10:38:23.682041Z",
     "iopub.status.idle": "2022-05-07T10:38:23.686883Z",
     "shell.execute_reply": "2022-05-07T10:38:23.686252Z",
     "shell.execute_reply.started": "2022-05-07T10:38:23.682952Z"
    },
    "hidden": true
   },
   "outputs": [],
   "source": [
    "## it has a lot of spread in the data, let us make it categorical based on the health industry specifications"
   ]
  },
  {
   "cell_type": "code",
   "execution_count": 18,
   "metadata": {
    "_kg_hide-input": true,
    "execution": {
     "iopub.execute_input": "2022-05-07T10:38:23.68847Z",
     "iopub.status.busy": "2022-05-07T10:38:23.688223Z",
     "iopub.status.idle": "2022-05-07T10:38:23.750544Z",
     "shell.execute_reply": "2022-05-07T10:38:23.749867Z",
     "shell.execute_reply.started": "2022-05-07T10:38:23.68844Z"
    },
    "hidden": true,
    "jupyter": {
     "source_hidden": true
    }
   },
   "outputs": [],
   "source": [
    "t=df['BMI']\n",
    "cond = [(t.between(0,18.5)),(t.between(18.5,24.9)),(t.between(24.9,29.9)),(t.between(29.9,34.9)), (t.between(34.9,100))]\n",
    "\n",
    "labels = ['Uwt','N','Owt','O','EO']    # Uwt-underweight, N-normal, Owt-overweight, O-Obese, EO-extremely obese \n",
    "\n",
    "df['BMI_cat'] = np.select(cond,labels)"
   ]
  },
  {
   "cell_type": "code",
   "execution_count": 19,
   "metadata": {
    "_kg_hide-input": true,
    "execution": {
     "iopub.execute_input": "2022-05-07T10:38:23.752186Z",
     "iopub.status.busy": "2022-05-07T10:38:23.751836Z",
     "iopub.status.idle": "2022-05-07T10:38:23.953212Z",
     "shell.execute_reply": "2022-05-07T10:38:23.952319Z",
     "shell.execute_reply.started": "2022-05-07T10:38:23.752143Z"
    },
    "hidden": true,
    "jupyter": {
     "source_hidden": true
    }
   },
   "outputs": [],
   "source": [
    "df.drop(columns=['BMI'],inplace=True)"
   ]
  },
  {
   "cell_type": "code",
   "execution_count": 20,
   "metadata": {
    "_kg_hide-input": true,
    "execution": {
     "iopub.execute_input": "2022-05-07T10:38:23.954861Z",
     "iopub.status.busy": "2022-05-07T10:38:23.954612Z",
     "iopub.status.idle": "2022-05-07T10:38:24.011618Z",
     "shell.execute_reply": "2022-05-07T10:38:24.010609Z",
     "shell.execute_reply.started": "2022-05-07T10:38:23.954832Z"
    },
    "hidden": true,
    "jupyter": {
     "source_hidden": true
    }
   },
   "outputs": [
    {
     "data": {
      "text/plain": [
       "Owt    114752\n",
       "N       95134\n",
       "O       62172\n",
       "EO      42623\n",
       "Uwt      5114\n",
       "Name: BMI_cat, dtype: int64"
      ]
     },
     "execution_count": 20,
     "metadata": {},
     "output_type": "execute_result"
    }
   ],
   "source": [
    "df['BMI_cat'].value_counts()"
   ]
  },
  {
   "cell_type": "code",
   "execution_count": 21,
   "metadata": {
    "execution": {
     "iopub.execute_input": "2022-05-07T10:38:24.01445Z",
     "iopub.status.busy": "2022-05-07T10:38:24.013685Z",
     "iopub.status.idle": "2022-05-07T10:38:24.02054Z",
     "shell.execute_reply": "2022-05-07T10:38:24.019928Z",
     "shell.execute_reply.started": "2022-05-07T10:38:24.014411Z"
    },
    "hidden": true
   },
   "outputs": [],
   "source": [
    "## we have more people that are overweight which matches with the avg BMI of the US, where the data is from."
   ]
  },
  {
   "cell_type": "code",
   "execution_count": 22,
   "metadata": {
    "_kg_hide-input": true,
    "execution": {
     "iopub.execute_input": "2022-05-07T10:38:24.021949Z",
     "iopub.status.busy": "2022-05-07T10:38:24.021547Z",
     "iopub.status.idle": "2022-05-07T10:38:24.294588Z",
     "shell.execute_reply": "2022-05-07T10:38:24.293868Z",
     "shell.execute_reply.started": "2022-05-07T10:38:24.021913Z"
    },
    "hidden": true,
    "jupyter": {
     "source_hidden": true
    }
   },
   "outputs": [],
   "source": [
    "dummy_df['BMI_cat']=df['BMI_cat']\n",
    "t1=dummy_df[[\"HeartDisease\",'BMI_cat']].groupby(['BMI_cat'],as_index=False).mean()"
   ]
  },
  {
   "cell_type": "code",
   "execution_count": 23,
   "metadata": {
    "_kg_hide-input": true,
    "execution": {
     "iopub.execute_input": "2022-05-07T10:38:24.296694Z",
     "iopub.status.busy": "2022-05-07T10:38:24.296177Z",
     "iopub.status.idle": "2022-05-07T10:38:24.496783Z",
     "shell.execute_reply": "2022-05-07T10:38:24.49589Z",
     "shell.execute_reply.started": "2022-05-07T10:38:24.296644Z"
    },
    "hidden": true,
    "jupyter": {
     "source_hidden": true
    }
   },
   "outputs": [
    {
     "data": {
      "text/plain": [
       "<AxesSubplot:xlabel='BMI_cat', ylabel='HeartDisease'>"
      ]
     },
     "execution_count": 23,
     "metadata": {},
     "output_type": "execute_result"
    },
    {
     "data": {
      "image/png": "[encoded data removed]",
      "text/plain": [
       "<Figure size 432x288 with 1 Axes>"
      ]
     },
     "metadata": {
      "needs_background": "light"
     },
     "output_type": "display_data"
    }
   ],
   "source": [
    "sns.barplot(data=t1.sort_values(by='HeartDisease'),x='BMI_cat',y='HeartDisease')"
   ]
  },
  {
   "cell_type": "code",
   "execution_count": 24,
   "metadata": {
    "execution": {
     "iopub.execute_input": "2022-05-07T10:38:24.498939Z",
     "iopub.status.busy": "2022-05-07T10:38:24.498495Z",
     "iopub.status.idle": "2022-05-07T10:38:24.502784Z",
     "shell.execute_reply": "2022-05-07T10:38:24.50172Z",
     "shell.execute_reply.started": "2022-05-07T10:38:24.49889Z"
    },
    "hidden": true
   },
   "outputs": [],
   "source": [
    "## here we see that Extremely obese people have higher risk of heart disease, also underweight people also have it higher than\n",
    "## normal ones, which some recent studies also show"
   ]
  },
  {
   "cell_type": "markdown",
   "metadata": {
    "heading_collapsed": true,
    "hidden": true
   },
   "source": [
    "#### PhysicalHealth"
   ]
  },
  {
   "cell_type": "code",
   "execution_count": 25,
   "metadata": {
    "_kg_hide-input": true,
    "execution": {
     "iopub.execute_input": "2022-05-07T10:38:24.504456Z",
     "iopub.status.busy": "2022-05-07T10:38:24.503929Z",
     "iopub.status.idle": "2022-05-07T10:38:24.538332Z",
     "shell.execute_reply": "2022-05-07T10:38:24.53779Z",
     "shell.execute_reply.started": "2022-05-07T10:38:24.504413Z"
    },
    "hidden": true,
    "jupyter": {
     "source_hidden": true
    }
   },
   "outputs": [
    {
     "data": {
      "text/plain": [
       "count    319795.00000\n",
       "mean          3.37171\n",
       "std           7.95085\n",
       "min           0.00000\n",
       "25%           0.00000\n",
       "50%           0.00000\n",
       "75%           2.00000\n",
       "max          30.00000\n",
       "Name: PhysicalHealth, dtype: float64"
      ]
     },
     "execution_count": 25,
     "metadata": {},
     "output_type": "execute_result"
    }
   ],
   "source": [
    "df['PhysicalHealth'].describe()"
   ]
  },
  {
   "cell_type": "code",
   "execution_count": 26,
   "metadata": {
    "_kg_hide-input": true,
    "execution": {
     "iopub.execute_input": "2022-05-07T10:38:24.539741Z",
     "iopub.status.busy": "2022-05-07T10:38:24.539405Z",
     "iopub.status.idle": "2022-05-07T10:38:24.877092Z",
     "shell.execute_reply": "2022-05-07T10:38:24.876143Z",
     "shell.execute_reply.started": "2022-05-07T10:38:24.539687Z"
    },
    "hidden": true,
    "jupyter": {
     "source_hidden": true
    }
   },
   "outputs": [
    {
     "data": {
      "text/plain": [
       "<AxesSubplot:xlabel='PhysicalHealth'>"
      ]
     },
     "execution_count": 26,
     "metadata": {},
     "output_type": "execute_result"
    },
    {
     "data": {
      "image/png": "[encoded data removed]",
      "text/plain": [
       "<Figure size 432x288 with 1 Axes>"
      ]
     },
     "metadata": {
      "needs_background": "light"
     },
     "output_type": "display_data"
    }
   ],
   "source": [
    "sns.boxplot(data=df, x='PhysicalHealth')"
   ]
  },
  {
   "cell_type": "code",
   "execution_count": 27,
   "metadata": {
    "_kg_hide-input": true,
    "execution": {
     "iopub.execute_input": "2022-05-07T10:38:24.881029Z",
     "iopub.status.busy": "2022-05-07T10:38:24.880774Z",
     "iopub.status.idle": "2022-05-07T10:38:27.136009Z",
     "shell.execute_reply": "2022-05-07T10:38:27.134945Z",
     "shell.execute_reply.started": "2022-05-07T10:38:24.880999Z"
    },
    "hidden": true,
    "jupyter": {
     "source_hidden": true
    }
   },
   "outputs": [
    {
     "data": {
      "text/plain": [
       "<AxesSubplot:xlabel='PhysicalHealth', ylabel='Density'>"
      ]
     },
     "execution_count": 27,
     "metadata": {},
     "output_type": "execute_result"
    },
    {
     "data": {
      "image/png": "[encoded data removed]",
      "text/plain": [
       "<Figure size 1080x576 with 1 Axes>"
      ]
     },
     "metadata": {
      "needs_background": "light"
     },
     "output_type": "display_data"
    }
   ],
   "source": [
    "fig, ax = plt.subplots(figsize = (15,8))\n",
    "sns.kdeplot(data=df, x='PhysicalHealth', hue='HeartDisease', fill=True, palette=\"crest\", alpha=.5, linewidth=0)"
   ]
  },
  {
   "cell_type": "code",
   "execution_count": 28,
   "metadata": {
    "execution": {
     "iopub.execute_input": "2022-05-07T10:38:27.138023Z",
     "iopub.status.busy": "2022-05-07T10:38:27.137683Z",
     "iopub.status.idle": "2022-05-07T10:38:27.143446Z",
     "shell.execute_reply": "2022-05-07T10:38:27.142499Z",
     "shell.execute_reply.started": "2022-05-07T10:38:27.137977Z"
    },
    "hidden": true
   },
   "outputs": [],
   "source": [
    "## here the plots [P(X|Y=No)P(Y=No) and P(X|Y=Yes)P(Y=Yes), where X is the PhysicalHealth] take into account the prior prob of\n",
    "## each class(P(Y=No) and P(Y=Yes) respectively),thus due to the imbalance, the prob plot for the majority class would always \n",
    "## be higher than the minority.\n",
    "## { \n",
    "##   Due to this reason only, a classifier predicting based on the baysian prob [P(Y=Yes|X) = P(X|Y=Yes)P(Y=Yes)/P(X) and \n",
    "##   P(Y=No|X) = P(X|Y=No)P(Y=No)/P(X)] would choose the majority class only and get high accuracy \n",
    "##    [since P(Y=No|X) > P(Y=Yes|X), i.e., 'No' class is always more likely than the 'Yes' class for a given X]\n",
    "## }"
   ]
  },
  {
   "cell_type": "code",
   "execution_count": 29,
   "metadata": {
    "execution": {
     "iopub.execute_input": "2022-05-07T10:38:27.145114Z",
     "iopub.status.busy": "2022-05-07T10:38:27.144698Z",
     "iopub.status.idle": "2022-05-07T10:38:27.157409Z",
     "shell.execute_reply": "2022-05-07T10:38:27.156508Z",
     "shell.execute_reply.started": "2022-05-07T10:38:27.145069Z"
    },
    "hidden": true
   },
   "outputs": [],
   "source": [
    "## Thus let us look the the probability independently for the classes (P(X|Y=No) and P(X|Y=Yes)), i.e., not taking into \n",
    "## account the prior prob, to better see the effect of X on the classes"
   ]
  },
  {
   "cell_type": "code",
   "execution_count": 30,
   "metadata": {
    "_kg_hide-input": true,
    "execution": {
     "iopub.execute_input": "2022-05-07T10:38:27.158795Z",
     "iopub.status.busy": "2022-05-07T10:38:27.158531Z",
     "iopub.status.idle": "2022-05-07T10:38:29.380326Z",
     "shell.execute_reply": "2022-05-07T10:38:29.379467Z",
     "shell.execute_reply.started": "2022-05-07T10:38:27.158755Z"
    },
    "hidden": true,
    "jupyter": {
     "source_hidden": true
    }
   },
   "outputs": [
    {
     "data": {
      "text/plain": [
       "<AxesSubplot:xlabel='PhysicalHealth', ylabel='Density'>"
      ]
     },
     "execution_count": 30,
     "metadata": {},
     "output_type": "execute_result"
    },
    {
     "data": {
      "image/png": "[encoded data removed]",
      "text/plain": [
       "<Figure size 1080x576 with 1 Axes>"
      ]
     },
     "metadata": {
      "needs_background": "light"
     },
     "output_type": "display_data"
    }
   ],
   "source": [
    "fig, ax = plt.subplots(figsize = (15,8))\n",
    "sns.kdeplot(data=df, x='PhysicalHealth', hue='HeartDisease', fill=True, common_norm=False, palette=\"crest\", alpha=.5, linewidth=0)"
   ]
  },
  {
   "cell_type": "code",
   "execution_count": 31,
   "metadata": {
    "execution": {
     "iopub.execute_input": "2022-05-07T10:38:29.383901Z",
     "iopub.status.busy": "2022-05-07T10:38:29.382629Z",
     "iopub.status.idle": "2022-05-07T10:38:29.38778Z",
     "shell.execute_reply": "2022-05-07T10:38:29.387138Z",
     "shell.execute_reply.started": "2022-05-07T10:38:29.383852Z"
    },
    "hidden": true
   },
   "outputs": [],
   "source": [
    "## From this plot we can see that the prob for people with heart disease being healthy for the pass 30 days (X=0) is lower than\n",
    "## the people with no heart disease, whereas it increases above that and is much more near the 30 mark (ill past 30 days)"
   ]
  },
  {
   "cell_type": "code",
   "execution_count": 32,
   "metadata": {
    "_kg_hide-input": true,
    "execution": {
     "iopub.execute_input": "2022-05-07T10:38:29.389148Z",
     "iopub.status.busy": "2022-05-07T10:38:29.388801Z",
     "iopub.status.idle": "2022-05-07T10:38:34.447232Z",
     "shell.execute_reply": "2022-05-07T10:38:34.44659Z",
     "shell.execute_reply.started": "2022-05-07T10:38:29.389119Z"
    },
    "hidden": true,
    "jupyter": {
     "source_hidden": true
    }
   },
   "outputs": [
    {
     "data": {
      "text/plain": [
       "<AxesSubplot:xlabel='HeartDisease', ylabel='PhysicalHealth'>"
      ]
     },
     "execution_count": 32,
     "metadata": {},
     "output_type": "execute_result"
    },
    {
     "data": {
      "image/png": "[encoded data removed]",
      "text/plain": [
       "<Figure size 432x288 with 1 Axes>"
      ]
     },
     "metadata": {
      "needs_background": "light"
     },
     "output_type": "display_data"
    }
   ],
   "source": [
    "sns.barplot(y='PhysicalHealth',data=df,x='HeartDisease')"
   ]
  },
  {
   "cell_type": "code",
   "execution_count": 33,
   "metadata": {
    "execution": {
     "iopub.execute_input": "2022-05-07T10:38:34.448839Z",
     "iopub.status.busy": "2022-05-07T10:38:34.448174Z",
     "iopub.status.idle": "2022-05-07T10:38:34.452878Z",
     "shell.execute_reply": "2022-05-07T10:38:34.452037Z",
     "shell.execute_reply.started": "2022-05-07T10:38:34.448788Z"
    },
    "hidden": true
   },
   "outputs": [],
   "source": [
    "## the mean sick days(in 30 days) are significantly higher for people with heart disease"
   ]
  },
  {
   "cell_type": "markdown",
   "metadata": {
    "heading_collapsed": true,
    "hidden": true
   },
   "source": [
    "#### MentalHealth"
   ]
  },
  {
   "cell_type": "code",
   "execution_count": 34,
   "metadata": {
    "_kg_hide-input": true,
    "execution": {
     "iopub.execute_input": "2022-05-07T10:38:34.454764Z",
     "iopub.status.busy": "2022-05-07T10:38:34.454445Z",
     "iopub.status.idle": "2022-05-07T10:38:34.482538Z",
     "shell.execute_reply": "2022-05-07T10:38:34.481782Z",
     "shell.execute_reply.started": "2022-05-07T10:38:34.454707Z"
    },
    "hidden": true,
    "jupyter": {
     "source_hidden": true
    }
   },
   "outputs": [
    {
     "data": {
      "text/plain": [
       "count    319795.000000\n",
       "mean          3.898366\n",
       "std           7.955235\n",
       "min           0.000000\n",
       "25%           0.000000\n",
       "50%           0.000000\n",
       "75%           3.000000\n",
       "max          30.000000\n",
       "Name: MentalHealth, dtype: float64"
      ]
     },
     "execution_count": 34,
     "metadata": {},
     "output_type": "execute_result"
    }
   ],
   "source": [
    "df['MentalHealth'].describe()"
   ]
  },
  {
   "cell_type": "code",
   "execution_count": 35,
   "metadata": {
    "_kg_hide-input": true,
    "execution": {
     "iopub.execute_input": "2022-05-07T10:38:34.48409Z",
     "iopub.status.busy": "2022-05-07T10:38:34.483886Z",
     "iopub.status.idle": "2022-05-07T10:38:34.84436Z",
     "shell.execute_reply": "2022-05-07T10:38:34.843417Z",
     "shell.execute_reply.started": "2022-05-07T10:38:34.484064Z"
    },
    "hidden": true,
    "jupyter": {
     "source_hidden": true
    }
   },
   "outputs": [
    {
     "data": {
      "text/plain": [
       "<AxesSubplot:xlabel='MentalHealth'>"
      ]
     },
     "execution_count": 35,
     "metadata": {},
     "output_type": "execute_result"
    },
    {
     "data": {
      "image/png": "[encoded data removed]",
      "text/plain": [
       "<Figure size 432x288 with 1 Axes>"
      ]
     },
     "metadata": {
      "needs_background": "light"
     },
     "output_type": "display_data"
    }
   ],
   "source": [
    "sns.boxplot(data=df, x='MentalHealth')"
   ]
  },
  {
   "cell_type": "code",
   "execution_count": 36,
   "metadata": {
    "_kg_hide-input": true,
    "execution": {
     "iopub.execute_input": "2022-05-07T10:38:34.846713Z",
     "iopub.status.busy": "2022-05-07T10:38:34.8459Z",
     "iopub.status.idle": "2022-05-07T10:38:37.210696Z",
     "shell.execute_reply": "2022-05-07T10:38:37.209796Z",
     "shell.execute_reply.started": "2022-05-07T10:38:34.846666Z"
    },
    "hidden": true,
    "jupyter": {
     "source_hidden": true
    }
   },
   "outputs": [
    {
     "data": {
      "text/plain": [
       "<AxesSubplot:xlabel='MentalHealth', ylabel='Density'>"
      ]
     },
     "execution_count": 36,
     "metadata": {},
     "output_type": "execute_result"
    },
    {
     "data": {
      "image/png": "[encoded data removed]",
      "text/plain": [
       "<Figure size 1080x576 with 1 Axes>"
      ]
     },
     "metadata": {
      "needs_background": "light"
     },
     "output_type": "display_data"
    }
   ],
   "source": [
    "fig, ax = plt.subplots(figsize = (15,8))\n",
    "sns.kdeplot(data=df, x='MentalHealth', hue='HeartDisease', fill=True, common_norm=False, palette=\"crest\", alpha=.5, linewidth=0)"
   ]
  },
  {
   "cell_type": "code",
   "execution_count": 37,
   "metadata": {
    "execution": {
     "iopub.execute_input": "2022-05-07T10:38:37.212456Z",
     "iopub.status.busy": "2022-05-07T10:38:37.212193Z",
     "iopub.status.idle": "2022-05-07T10:38:37.217235Z",
     "shell.execute_reply": "2022-05-07T10:38:37.216391Z",
     "shell.execute_reply.started": "2022-05-07T10:38:37.212424Z"
    },
    "hidden": true
   },
   "outputs": [],
   "source": [
    "## even for more days of bad mental health the prob is around the same or even lower for heart disease people than the ones\n",
    "## with no heart problem, a reason for that could be that many people nowadays face bad mental health problems, but all wont\n",
    "## have the heart problem."
   ]
  },
  {
   "cell_type": "code",
   "execution_count": 38,
   "metadata": {
    "_kg_hide-input": true,
    "execution": {
     "iopub.execute_input": "2022-05-07T10:38:37.219263Z",
     "iopub.status.busy": "2022-05-07T10:38:37.218584Z",
     "iopub.status.idle": "2022-05-07T10:38:42.400532Z",
     "shell.execute_reply": "2022-05-07T10:38:42.399486Z",
     "shell.execute_reply.started": "2022-05-07T10:38:37.219229Z"
    },
    "hidden": true,
    "jupyter": {
     "source_hidden": true
    }
   },
   "outputs": [
    {
     "data": {
      "text/plain": [
       "<AxesSubplot:xlabel='HeartDisease', ylabel='MentalHealth'>"
      ]
     },
     "execution_count": 38,
     "metadata": {},
     "output_type": "execute_result"
    },
    {
     "data": {
      "image/png": "[encoded data removed]",
      "text/plain": [
       "<Figure size 432x288 with 1 Axes>"
      ]
     },
     "metadata": {
      "needs_background": "light"
     },
     "output_type": "display_data"
    }
   ],
   "source": [
    "sns.barplot(y='MentalHealth',data=df,x='HeartDisease')"
   ]
  },
  {
   "cell_type": "code",
   "execution_count": 39,
   "metadata": {
    "execution": {
     "iopub.execute_input": "2022-05-07T10:38:42.402093Z",
     "iopub.status.busy": "2022-05-07T10:38:42.401848Z",
     "iopub.status.idle": "2022-05-07T10:38:42.405965Z",
     "shell.execute_reply": "2022-05-07T10:38:42.405198Z",
     "shell.execute_reply.started": "2022-05-07T10:38:42.402062Z"
    },
    "hidden": true
   },
   "outputs": [],
   "source": [
    "## The difference in mean days for bad mental health is also around the same for both the cases, which could mean that mental \n",
    "## health might not be a big factor for the heart disease, and thus we can drop it for the model"
   ]
  },
  {
   "cell_type": "code",
   "execution_count": 40,
   "metadata": {
    "execution": {
     "iopub.execute_input": "2022-05-07T10:38:42.407585Z",
     "iopub.status.busy": "2022-05-07T10:38:42.406859Z",
     "iopub.status.idle": "2022-05-07T10:38:42.482754Z",
     "shell.execute_reply": "2022-05-07T10:38:42.481989Z",
     "shell.execute_reply.started": "2022-05-07T10:38:42.407552Z"
    },
    "hidden": true
   },
   "outputs": [],
   "source": [
    "df.drop(columns='MentalHealth', inplace=True)"
   ]
  },
  {
   "cell_type": "markdown",
   "metadata": {
    "hidden": true
   },
   "source": [
    "#### SleepTime"
   ]
  },
  {
   "cell_type": "code",
   "execution_count": 41,
   "metadata": {
    "_kg_hide-input": true,
    "execution": {
     "iopub.execute_input": "2022-05-07T10:38:42.484529Z",
     "iopub.status.busy": "2022-05-07T10:38:42.484111Z",
     "iopub.status.idle": "2022-05-07T10:38:42.505332Z",
     "shell.execute_reply": "2022-05-07T10:38:42.504754Z",
     "shell.execute_reply.started": "2022-05-07T10:38:42.484498Z"
    },
    "hidden": true,
    "jupyter": {
     "source_hidden": true
    }
   },
   "outputs": [
    {
     "data": {
      "text/plain": [
       "count    319795.000000\n",
       "mean          7.097075\n",
       "std           1.436007\n",
       "min           1.000000\n",
       "25%           6.000000\n",
       "50%           7.000000\n",
       "75%           8.000000\n",
       "max          24.000000\n",
       "Name: SleepTime, dtype: float64"
      ]
     },
     "execution_count": 41,
     "metadata": {},
     "output_type": "execute_result"
    }
   ],
   "source": [
    "df['SleepTime'].describe()"
   ]
  },
  {
   "cell_type": "code",
   "execution_count": 42,
   "metadata": {
    "execution": {
     "iopub.execute_input": "2022-05-07T10:38:42.506869Z",
     "iopub.status.busy": "2022-05-07T10:38:42.506521Z",
     "iopub.status.idle": "2022-05-07T10:38:42.509897Z",
     "shell.execute_reply": "2022-05-07T10:38:42.509231Z",
     "shell.execute_reply.started": "2022-05-07T10:38:42.50684Z"
    },
    "hidden": true
   },
   "outputs": [],
   "source": [
    "## the max is 24! The central value is around 7 hours"
   ]
  },
  {
   "cell_type": "code",
   "execution_count": 43,
   "metadata": {
    "_kg_hide-input": true,
    "_kg_hide-output": true,
    "execution": {
     "iopub.execute_input": "2022-05-07T10:38:42.515488Z",
     "iopub.status.busy": "2022-05-07T10:38:42.515011Z",
     "iopub.status.idle": "2022-05-07T10:38:42.533864Z",
     "shell.execute_reply": "2022-05-07T10:38:42.533152Z",
     "shell.execute_reply.started": "2022-05-07T10:38:42.515455Z"
    },
    "hidden": true,
    "jupyter": {
     "source_hidden": true
    }
   },
   "outputs": [
    {
     "data": {
      "text/plain": [
       "7.0     97751\n",
       "8.0     97602\n",
       "6.0     66721\n",
       "5.0     19184\n",
       "9.0     16041\n",
       "10.0     7796\n",
       "4.0      7750\n",
       "12.0     2205\n",
       "3.0      1992\n",
       "2.0       788\n",
       "1.0       551\n",
       "11.0      415\n",
       "14.0      243\n",
       "16.0      236\n",
       "15.0      189\n",
       "18.0      102\n",
       "13.0       97\n",
       "20.0       64\n",
       "24.0       30\n",
       "17.0       21\n",
       "22.0        9\n",
       "19.0        3\n",
       "23.0        3\n",
       "21.0        2\n",
       "Name: SleepTime, dtype: int64"
      ]
     },
     "execution_count": 43,
     "metadata": {},
     "output_type": "execute_result"
    }
   ],
   "source": [
    "df['SleepTime'].value_counts()"
   ]
  },
  {
   "cell_type": "code",
   "execution_count": 44,
   "metadata": {
    "_kg_hide-input": true,
    "execution": {
     "iopub.execute_input": "2022-05-07T10:38:42.535866Z",
     "iopub.status.busy": "2022-05-07T10:38:42.535241Z",
     "iopub.status.idle": "2022-05-07T10:38:42.724407Z",
     "shell.execute_reply": "2022-05-07T10:38:42.723785Z",
     "shell.execute_reply.started": "2022-05-07T10:38:42.535827Z"
    },
    "hidden": true,
    "jupyter": {
     "source_hidden": true
    }
   },
   "outputs": [
    {
     "data": {
      "text/plain": [
       "<AxesSubplot:xlabel='SleepTime'>"
      ]
     },
     "execution_count": 44,
     "metadata": {},
     "output_type": "execute_result"
    },
    {
     "data": {
      "image/png": "[encoded data removed]",
      "text/plain": [
       "<Figure size 432x288 with 1 Axes>"
      ]
     },
     "metadata": {
      "needs_background": "light"
     },
     "output_type": "display_data"
    }
   ],
   "source": [
    "sns.boxplot(data=df, x='SleepTime')"
   ]
  },
  {
   "cell_type": "code",
   "execution_count": 45,
   "metadata": {
    "_kg_hide-input": true,
    "execution": {
     "iopub.execute_input": "2022-05-07T10:38:42.726148Z",
     "iopub.status.busy": "2022-05-07T10:38:42.725711Z",
     "iopub.status.idle": "2022-05-07T10:38:44.847713Z",
     "shell.execute_reply": "2022-05-07T10:38:44.846794Z",
     "shell.execute_reply.started": "2022-05-07T10:38:42.726116Z"
    },
    "hidden": true,
    "jupyter": {
     "source_hidden": true
    }
   },
   "outputs": [
    {
     "data": {
      "text/plain": [
       "<AxesSubplot:xlabel='SleepTime', ylabel='Density'>"
      ]
     },
     "execution_count": 45,
     "metadata": {},
     "output_type": "execute_result"
    },
    {
     "data": {
      "image/png": "[encoded data removed]",
      "text/plain": [
       "<Figure size 1080x576 with 1 Axes>"
      ]
     },
     "metadata": {
      "needs_background": "light"
     },
     "output_type": "display_data"
    }
   ],
   "source": [
    "fig, ax = plt.subplots(figsize = (15,8))\n",
    "sns.kdeplot(data=df, x='SleepTime', hue='HeartDisease', fill=True, common_norm=False, palette=\"crest\", alpha=.5, linewidth=0)"
   ]
  },
  {
   "cell_type": "code",
   "execution_count": 46,
   "metadata": {
    "_kg_hide-input": true,
    "execution": {
     "iopub.execute_input": "2022-05-07T10:38:44.849072Z",
     "iopub.status.busy": "2022-05-07T10:38:44.848862Z",
     "iopub.status.idle": "2022-05-07T10:38:44.945249Z",
     "shell.execute_reply": "2022-05-07T10:38:44.94457Z",
     "shell.execute_reply.started": "2022-05-07T10:38:44.849045Z"
    },
    "hidden": true,
    "jupyter": {
     "source_hidden": true
    }
   },
   "outputs": [],
   "source": [
    "t2=dummy_df[[\"HeartDisease\",'SleepTime']].groupby(['SleepTime'],as_index=False).mean()"
   ]
  },
  {
   "cell_type": "code",
   "execution_count": 47,
   "metadata": {
    "_kg_hide-input": true,
    "execution": {
     "iopub.execute_input": "2022-05-07T10:38:44.947112Z",
     "iopub.status.busy": "2022-05-07T10:38:44.946644Z",
     "iopub.status.idle": "2022-05-07T10:38:45.341664Z",
     "shell.execute_reply": "2022-05-07T10:38:45.34107Z",
     "shell.execute_reply.started": "2022-05-07T10:38:44.947079Z"
    },
    "hidden": true,
    "jupyter": {
     "source_hidden": true
    }
   },
   "outputs": [
    {
     "data": {
      "text/plain": [
       "<AxesSubplot:xlabel='SleepTime', ylabel='HeartDisease'>"
      ]
     },
     "execution_count": 47,
     "metadata": {},
     "output_type": "execute_result"
    },
    {
     "data": {
      "image/png": "[encoded data removed]",
      "text/plain": [
       "<Figure size 1080x576 with 1 Axes>"
      ]
     },
     "metadata": {
      "needs_background": "light"
     },
     "output_type": "display_data"
    }
   ],
   "source": [
    "fig, ax = plt.subplots(figsize = (15,8))\n",
    "sns.barplot(data=t2.sort_values(by='HeartDisease'),x='SleepTime',y='HeartDisease')"
   ]
  },
  {
   "cell_type": "code",
   "execution_count": 48,
   "metadata": {
    "execution": {
     "iopub.execute_input": "2022-05-07T10:38:45.34344Z",
     "iopub.status.busy": "2022-05-07T10:38:45.343033Z",
     "iopub.status.idle": "2022-05-07T10:38:45.34643Z",
     "shell.execute_reply": "2022-05-07T10:38:45.345885Z",
     "shell.execute_reply.started": "2022-05-07T10:38:45.343409Z"
    },
    "hidden": true
   },
   "outputs": [],
   "source": [
    "## we can see from the above plots that the people with less sleep time or more than the avg sleep time (7hrs) have higher\n",
    "## risk of heart disease"
   ]
  },
  {
   "cell_type": "code",
   "execution_count": 49,
   "metadata": {
    "execution": {
     "iopub.execute_input": "2022-05-07T10:38:45.347877Z",
     "iopub.status.busy": "2022-05-07T10:38:45.34763Z",
     "iopub.status.idle": "2022-05-07T10:38:45.365847Z",
     "shell.execute_reply": "2022-05-07T10:38:45.364863Z",
     "shell.execute_reply.started": "2022-05-07T10:38:45.347848Z"
    },
    "hidden": true
   },
   "outputs": [],
   "source": [
    "## Considering the spread and the outliers & also its trend on the target, it would be best to bin this feature"
   ]
  },
  {
   "cell_type": "code",
   "execution_count": 50,
   "metadata": {
    "_kg_hide-input": true,
    "execution": {
     "iopub.execute_input": "2022-05-07T10:38:45.367891Z",
     "iopub.status.busy": "2022-05-07T10:38:45.367179Z",
     "iopub.status.idle": "2022-05-07T10:38:45.427687Z",
     "shell.execute_reply": "2022-05-07T10:38:45.427036Z",
     "shell.execute_reply.started": "2022-05-07T10:38:45.367848Z"
    },
    "hidden": true,
    "jupyter": {
     "source_hidden": true
    }
   },
   "outputs": [],
   "source": [
    "st=df['SleepTime']\n",
    "cond = [(st.between(0,6)),(st.between(6,9)),(st.between(9,24))]\n",
    "\n",
    "labels = ['Low','Normal','High']\n",
    "\n",
    "df['SleepTime_cat'] = np.select(cond,labels)"
   ]
  },
  {
   "cell_type": "code",
   "execution_count": 51,
   "metadata": {
    "_kg_hide-input": true,
    "execution": {
     "iopub.execute_input": "2022-05-07T10:38:45.429498Z",
     "iopub.status.busy": "2022-05-07T10:38:45.428964Z",
     "iopub.status.idle": "2022-05-07T10:38:45.66331Z",
     "shell.execute_reply": "2022-05-07T10:38:45.662259Z",
     "shell.execute_reply.started": "2022-05-07T10:38:45.429461Z"
    },
    "hidden": true,
    "jupyter": {
     "source_hidden": true
    }
   },
   "outputs": [],
   "source": [
    "df.drop(columns=['SleepTime'],inplace=True)"
   ]
  },
  {
   "cell_type": "code",
   "execution_count": 52,
   "metadata": {
    "_kg_hide-input": true,
    "execution": {
     "iopub.execute_input": "2022-05-07T10:38:45.665152Z",
     "iopub.status.busy": "2022-05-07T10:38:45.664589Z",
     "iopub.status.idle": "2022-05-07T10:38:45.732804Z",
     "shell.execute_reply": "2022-05-07T10:38:45.731703Z",
     "shell.execute_reply.started": "2022-05-07T10:38:45.665108Z"
    },
    "hidden": true,
    "jupyter": {
     "source_hidden": true
    }
   },
   "outputs": [
    {
     "data": {
      "text/plain": [
       "Normal    211394\n",
       "Low        96986\n",
       "High       11415\n",
       "Name: SleepTime_cat, dtype: int64"
      ]
     },
     "execution_count": 52,
     "metadata": {},
     "output_type": "execute_result"
    }
   ],
   "source": [
    "df['SleepTime_cat'].value_counts()"
   ]
  },
  {
   "cell_type": "code",
   "execution_count": 53,
   "metadata": {
    "_kg_hide-input": true,
    "execution": {
     "iopub.execute_input": "2022-05-07T10:38:45.734966Z",
     "iopub.status.busy": "2022-05-07T10:38:45.734619Z",
     "iopub.status.idle": "2022-05-07T10:38:46.012194Z",
     "shell.execute_reply": "2022-05-07T10:38:46.011128Z",
     "shell.execute_reply.started": "2022-05-07T10:38:45.734921Z"
    },
    "hidden": true,
    "jupyter": {
     "source_hidden": true
    }
   },
   "outputs": [],
   "source": [
    "dummy_df['SleepTime_cat']=df['SleepTime_cat']\n",
    "t3=dummy_df[[\"HeartDisease\",'SleepTime_cat']].groupby(['SleepTime_cat'],as_index=False).mean()"
   ]
  },
  {
   "cell_type": "code",
   "execution_count": 54,
   "metadata": {
    "_kg_hide-input": true,
    "execution": {
     "iopub.execute_input": "2022-05-07T10:38:46.014099Z",
     "iopub.status.busy": "2022-05-07T10:38:46.013775Z",
     "iopub.status.idle": "2022-05-07T10:38:46.214846Z",
     "shell.execute_reply": "2022-05-07T10:38:46.213924Z",
     "shell.execute_reply.started": "2022-05-07T10:38:46.014054Z"
    },
    "hidden": true,
    "jupyter": {
     "source_hidden": true
    }
   },
   "outputs": [
    {
     "data": {
      "text/plain": [
       "<AxesSubplot:xlabel='SleepTime_cat', ylabel='HeartDisease'>"
      ]
     },
     "execution_count": 54,
     "metadata": {},
     "output_type": "execute_result"
    },
    {
     "data": {
      "image/png": "[encoded data removed]",
      "text/plain": [
       "<Figure size 432x288 with 1 Axes>"
      ]
     },
     "metadata": {
      "needs_background": "light"
     },
     "output_type": "display_data"
    }
   ],
   "source": [
    "sns.barplot(data=t3.sort_values(by='HeartDisease'),x='SleepTime_cat',y='HeartDisease')"
   ]
  },
  {
   "cell_type": "markdown",
   "metadata": {
    "heading_collapsed": true,
    "hidden": true
   },
   "source": [
    "#### Smoking"
   ]
  },
  {
   "cell_type": "code",
   "execution_count": 55,
   "metadata": {
    "_kg_hide-input": true,
    "execution": {
     "iopub.execute_input": "2022-05-07T10:38:46.216387Z",
     "iopub.status.busy": "2022-05-07T10:38:46.216163Z",
     "iopub.status.idle": "2022-05-07T10:38:46.27289Z",
     "shell.execute_reply": "2022-05-07T10:38:46.271925Z",
     "shell.execute_reply.started": "2022-05-07T10:38:46.21636Z"
    },
    "hidden": true,
    "jupyter": {
     "source_hidden": true
    }
   },
   "outputs": [
    {
     "data": {
      "text/plain": [
       "No     187887\n",
       "Yes    131908\n",
       "Name: Smoking, dtype: int64"
      ]
     },
     "execution_count": 55,
     "metadata": {},
     "output_type": "execute_result"
    }
   ],
   "source": [
    "df['Smoking'].value_counts()"
   ]
  },
  {
   "cell_type": "code",
   "execution_count": 56,
   "metadata": {
    "_kg_hide-input": true,
    "execution": {
     "iopub.execute_input": "2022-05-07T10:38:46.274522Z",
     "iopub.status.busy": "2022-05-07T10:38:46.274257Z",
     "iopub.status.idle": "2022-05-07T10:38:46.383468Z",
     "shell.execute_reply": "2022-05-07T10:38:46.38233Z",
     "shell.execute_reply.started": "2022-05-07T10:38:46.274479Z"
    },
    "hidden": true,
    "jupyter": {
     "source_hidden": true
    }
   },
   "outputs": [],
   "source": [
    "t4=dummy_df[[\"HeartDisease\",'Smoking']].groupby(['Smoking'],as_index=False).mean()"
   ]
  },
  {
   "cell_type": "code",
   "execution_count": 57,
   "metadata": {
    "_kg_hide-input": true,
    "execution": {
     "iopub.execute_input": "2022-05-07T10:38:46.385267Z",
     "iopub.status.busy": "2022-05-07T10:38:46.385009Z",
     "iopub.status.idle": "2022-05-07T10:38:46.564414Z",
     "shell.execute_reply": "2022-05-07T10:38:46.563428Z",
     "shell.execute_reply.started": "2022-05-07T10:38:46.385235Z"
    },
    "hidden": true,
    "jupyter": {
     "source_hidden": true
    }
   },
   "outputs": [
    {
     "data": {
      "text/plain": [
       "<AxesSubplot:xlabel='Smoking', ylabel='HeartDisease'>"
      ]
     },
     "execution_count": 57,
     "metadata": {},
     "output_type": "execute_result"
    },
    {
     "data": {
      "image/png": "[encoded data removed]",
      "text/plain": [
       "<Figure size 432x288 with 1 Axes>"
      ]
     },
     "metadata": {
      "needs_background": "light"
     },
     "output_type": "display_data"
    }
   ],
   "source": [
    "sns.barplot(data=t4.sort_values(by='HeartDisease'),x='Smoking',y='HeartDisease')"
   ]
  },
  {
   "cell_type": "code",
   "execution_count": 58,
   "metadata": {
    "execution": {
     "iopub.execute_input": "2022-05-07T10:38:46.565946Z",
     "iopub.status.busy": "2022-05-07T10:38:46.565705Z",
     "iopub.status.idle": "2022-05-07T10:38:46.569447Z",
     "shell.execute_reply": "2022-05-07T10:38:46.568881Z",
     "shell.execute_reply.started": "2022-05-07T10:38:46.565917Z"
    },
    "hidden": true
   },
   "outputs": [],
   "source": [
    "## Smoking leads to greater heart risk. Another reason to quit it!"
   ]
  },
  {
   "cell_type": "markdown",
   "metadata": {
    "heading_collapsed": true,
    "hidden": true
   },
   "source": [
    "#### AlcoholDrinking"
   ]
  },
  {
   "cell_type": "code",
   "execution_count": 59,
   "metadata": {
    "_kg_hide-input": true,
    "execution": {
     "iopub.execute_input": "2022-05-07T10:38:46.571006Z",
     "iopub.status.busy": "2022-05-07T10:38:46.570273Z",
     "iopub.status.idle": "2022-05-07T10:38:46.635009Z",
     "shell.execute_reply": "2022-05-07T10:38:46.633998Z",
     "shell.execute_reply.started": "2022-05-07T10:38:46.570971Z"
    },
    "hidden": true,
    "jupyter": {
     "source_hidden": true
    }
   },
   "outputs": [
    {
     "data": {
      "text/plain": [
       "No     93.190325\n",
       "Yes     6.809675\n",
       "Name: AlcoholDrinking, dtype: float64"
      ]
     },
     "execution_count": 59,
     "metadata": {},
     "output_type": "execute_result"
    }
   ],
   "source": [
    "df['AlcoholDrinking'].value_counts()/l*100"
   ]
  },
  {
   "cell_type": "code",
   "execution_count": 60,
   "metadata": {
    "_kg_hide-input": true,
    "execution": {
     "iopub.execute_input": "2022-05-07T10:38:46.636779Z",
     "iopub.status.busy": "2022-05-07T10:38:46.636195Z",
     "iopub.status.idle": "2022-05-07T10:38:46.744523Z",
     "shell.execute_reply": "2022-05-07T10:38:46.743877Z",
     "shell.execute_reply.started": "2022-05-07T10:38:46.636712Z"
    },
    "hidden": true,
    "jupyter": {
     "source_hidden": true
    }
   },
   "outputs": [],
   "source": [
    "t5=dummy_df[[\"HeartDisease\",'AlcoholDrinking']].groupby(['AlcoholDrinking'],as_index=False).mean()"
   ]
  },
  {
   "cell_type": "code",
   "execution_count": 61,
   "metadata": {
    "_kg_hide-input": true,
    "execution": {
     "iopub.execute_input": "2022-05-07T10:38:46.746092Z",
     "iopub.status.busy": "2022-05-07T10:38:46.745577Z",
     "iopub.status.idle": "2022-05-07T10:38:46.867796Z",
     "shell.execute_reply": "2022-05-07T10:38:46.866856Z",
     "shell.execute_reply.started": "2022-05-07T10:38:46.746051Z"
    },
    "hidden": true,
    "jupyter": {
     "source_hidden": true
    }
   },
   "outputs": [
    {
     "data": {
      "text/plain": [
       "<AxesSubplot:xlabel='AlcoholDrinking', ylabel='HeartDisease'>"
      ]
     },
     "execution_count": 61,
     "metadata": {},
     "output_type": "execute_result"
    },
    {
     "data": {
      "image/png": "[encoded data removed]",
      "text/plain": [
       "<Figure size 432x288 with 1 Axes>"
      ]
     },
     "metadata": {
      "needs_background": "light"
     },
     "output_type": "display_data"
    }
   ],
   "source": [
    "sns.barplot(data=t5.sort_values(by='HeartDisease'),x='AlcoholDrinking',y='HeartDisease')"
   ]
  },
  {
   "cell_type": "code",
   "execution_count": 62,
   "metadata": {
    "execution": {
     "iopub.execute_input": "2022-05-07T10:38:46.870148Z",
     "iopub.status.busy": "2022-05-07T10:38:46.869784Z",
     "iopub.status.idle": "2022-05-07T10:38:46.875907Z",
     "shell.execute_reply": "2022-05-07T10:38:46.874584Z",
     "shell.execute_reply.started": "2022-05-07T10:38:46.870103Z"
    },
    "hidden": true
   },
   "outputs": [],
   "source": [
    "## Since there are very few heavy drinkers (6.8%), so people with high heart problem risk dont look to be influenced by heavy drinking"
   ]
  },
  {
   "cell_type": "code",
   "execution_count": 63,
   "metadata": {
    "_kg_hide-input": true,
    "_kg_hide-output": true,
    "execution": {
     "iopub.execute_input": "2022-05-07T10:38:46.878301Z",
     "iopub.status.busy": "2022-05-07T10:38:46.877692Z",
     "iopub.status.idle": "2022-05-07T10:38:46.968985Z",
     "shell.execute_reply": "2022-05-07T10:38:46.967564Z",
     "shell.execute_reply.started": "2022-05-07T10:38:46.878237Z"
    },
    "hidden": true,
    "jupyter": {
     "source_hidden": true
    }
   },
   "outputs": [
    {
     "data": {
      "text/plain": [
       "No     20636\n",
       "Yes     1141\n",
       "Name: HeartDisease, dtype: int64"
      ]
     },
     "execution_count": 63,
     "metadata": {},
     "output_type": "execute_result"
    }
   ],
   "source": [
    "df[df['AlcoholDrinking']=='Yes']['HeartDisease'].value_counts()"
   ]
  },
  {
   "cell_type": "code",
   "execution_count": 64,
   "metadata": {
    "_kg_hide-input": true,
    "_kg_hide-output": true,
    "execution": {
     "iopub.execute_input": "2022-05-07T10:38:46.970532Z",
     "iopub.status.busy": "2022-05-07T10:38:46.97032Z",
     "iopub.status.idle": "2022-05-07T10:38:47.038998Z",
     "shell.execute_reply": "2022-05-07T10:38:47.037957Z",
     "shell.execute_reply.started": "2022-05-07T10:38:46.970506Z"
    },
    "hidden": true,
    "jupyter": {
     "source_hidden": true
    }
   },
   "outputs": [
    {
     "data": {
      "text/plain": [
       "No     292422\n",
       "Yes     27373\n",
       "Name: HeartDisease, dtype: int64"
      ]
     },
     "execution_count": 64,
     "metadata": {},
     "output_type": "execute_result"
    }
   ],
   "source": [
    "df['HeartDisease'].value_counts()"
   ]
  },
  {
   "cell_type": "code",
   "execution_count": 65,
   "metadata": {
    "_kg_hide-input": false,
    "_kg_hide-output": false,
    "execution": {
     "iopub.execute_input": "2022-05-07T10:38:47.040969Z",
     "iopub.status.busy": "2022-05-07T10:38:47.040474Z",
     "iopub.status.idle": "2022-05-07T10:38:47.049891Z",
     "shell.execute_reply": "2022-05-07T10:38:47.048907Z",
     "shell.execute_reply.started": "2022-05-07T10:38:47.04092Z"
    },
    "hidden": true
   },
   "outputs": [],
   "source": [
    "## Only 4% (1141/27373*100) of people with heart disease are heavy drinkers, so this might not be that good indicator for heart disease, and\n",
    "## it's better to drop it"
   ]
  },
  {
   "cell_type": "code",
   "execution_count": 66,
   "metadata": {
    "execution": {
     "iopub.execute_input": "2022-05-07T10:38:47.052431Z",
     "iopub.status.busy": "2022-05-07T10:38:47.051494Z",
     "iopub.status.idle": "2022-05-07T10:38:47.123842Z",
     "shell.execute_reply": "2022-05-07T10:38:47.122851Z",
     "shell.execute_reply.started": "2022-05-07T10:38:47.05239Z"
    },
    "hidden": true
   },
   "outputs": [],
   "source": [
    "df.drop(columns='AlcoholDrinking', inplace=True)"
   ]
  },
  {
   "cell_type": "markdown",
   "metadata": {
    "heading_collapsed": true,
    "hidden": true
   },
   "source": [
    "#### Stroke"
   ]
  },
  {
   "cell_type": "code",
   "execution_count": 67,
   "metadata": {
    "_kg_hide-input": true,
    "execution": {
     "iopub.execute_input": "2022-05-07T10:38:47.126156Z",
     "iopub.status.busy": "2022-05-07T10:38:47.125504Z",
     "iopub.status.idle": "2022-05-07T10:38:47.190696Z",
     "shell.execute_reply": "2022-05-07T10:38:47.189867Z",
     "shell.execute_reply.started": "2022-05-07T10:38:47.126114Z"
    },
    "hidden": true,
    "jupyter": {
     "source_hidden": true
    }
   },
   "outputs": [
    {
     "data": {
      "text/plain": [
       "No     96.22602\n",
       "Yes     3.77398\n",
       "Name: Stroke, dtype: float64"
      ]
     },
     "execution_count": 67,
     "metadata": {},
     "output_type": "execute_result"
    }
   ],
   "source": [
    "df['Stroke'].value_counts()/l*100"
   ]
  },
  {
   "cell_type": "code",
   "execution_count": 68,
   "metadata": {
    "_kg_hide-input": true,
    "execution": {
     "iopub.execute_input": "2022-05-07T10:38:47.192505Z",
     "iopub.status.busy": "2022-05-07T10:38:47.191736Z",
     "iopub.status.idle": "2022-05-07T10:38:47.293345Z",
     "shell.execute_reply": "2022-05-07T10:38:47.292258Z",
     "shell.execute_reply.started": "2022-05-07T10:38:47.19247Z"
    },
    "hidden": true,
    "jupyter": {
     "source_hidden": true
    }
   },
   "outputs": [],
   "source": [
    "t6=dummy_df[[\"HeartDisease\",'Stroke']].groupby(['Stroke'],as_index=False).mean()"
   ]
  },
  {
   "cell_type": "code",
   "execution_count": 69,
   "metadata": {
    "_kg_hide-input": true,
    "execution": {
     "iopub.execute_input": "2022-05-07T10:38:47.294676Z",
     "iopub.status.busy": "2022-05-07T10:38:47.294469Z",
     "iopub.status.idle": "2022-05-07T10:38:47.477489Z",
     "shell.execute_reply": "2022-05-07T10:38:47.476402Z",
     "shell.execute_reply.started": "2022-05-07T10:38:47.29465Z"
    },
    "hidden": true,
    "jupyter": {
     "source_hidden": true
    }
   },
   "outputs": [
    {
     "data": {
      "text/plain": [
       "<AxesSubplot:xlabel='Stroke', ylabel='HeartDisease'>"
      ]
     },
     "execution_count": 69,
     "metadata": {},
     "output_type": "execute_result"
    },
    {
     "data": {
      "image/png": "[encoded data removed]",
      "text/plain": [
       "<Figure size 432x288 with 1 Axes>"
      ]
     },
     "metadata": {
      "needs_background": "light"
     },
     "output_type": "display_data"
    }
   ],
   "source": [
    "sns.barplot(data=t6.sort_values(by='HeartDisease'),x='Stroke',y='HeartDisease')"
   ]
  },
  {
   "cell_type": "code",
   "execution_count": 70,
   "metadata": {
    "_kg_hide-input": false,
    "execution": {
     "iopub.execute_input": "2022-05-07T10:38:47.479359Z",
     "iopub.status.busy": "2022-05-07T10:38:47.479049Z",
     "iopub.status.idle": "2022-05-07T10:38:47.485749Z",
     "shell.execute_reply": "2022-05-07T10:38:47.484666Z",
     "shell.execute_reply.started": "2022-05-07T10:38:47.479316Z"
    },
    "hidden": true
   },
   "outputs": [],
   "source": [
    "## So a past stroke could be a big indicator for heart disease"
   ]
  },
  {
   "cell_type": "markdown",
   "metadata": {
    "heading_collapsed": true,
    "hidden": true
   },
   "source": [
    "#### DiffWalking"
   ]
  },
  {
   "cell_type": "code",
   "execution_count": 71,
   "metadata": {
    "_kg_hide-input": true,
    "execution": {
     "iopub.execute_input": "2022-05-07T10:38:47.488125Z",
     "iopub.status.busy": "2022-05-07T10:38:47.487276Z",
     "iopub.status.idle": "2022-05-07T10:38:47.552775Z",
     "shell.execute_reply": "2022-05-07T10:38:47.551703Z",
     "shell.execute_reply.started": "2022-05-07T10:38:47.488078Z"
    },
    "hidden": true,
    "jupyter": {
     "source_hidden": true
    }
   },
   "outputs": [
    {
     "data": {
      "text/plain": [
       "No     86.112979\n",
       "Yes    13.887021\n",
       "Name: DiffWalking, dtype: float64"
      ]
     },
     "execution_count": 71,
     "metadata": {},
     "output_type": "execute_result"
    }
   ],
   "source": [
    "df['DiffWalking'].value_counts()/l*100"
   ]
  },
  {
   "cell_type": "code",
   "execution_count": 72,
   "metadata": {
    "_kg_hide-input": true,
    "execution": {
     "iopub.execute_input": "2022-05-07T10:38:47.554267Z",
     "iopub.status.busy": "2022-05-07T10:38:47.553947Z",
     "iopub.status.idle": "2022-05-07T10:38:47.668493Z",
     "shell.execute_reply": "2022-05-07T10:38:47.667641Z",
     "shell.execute_reply.started": "2022-05-07T10:38:47.554238Z"
    },
    "hidden": true,
    "jupyter": {
     "source_hidden": true
    }
   },
   "outputs": [],
   "source": [
    "t7=dummy_df[[\"HeartDisease\",'DiffWalking']].groupby(['DiffWalking'],as_index=False).mean()"
   ]
  },
  {
   "cell_type": "code",
   "execution_count": 73,
   "metadata": {
    "_kg_hide-input": true,
    "execution": {
     "iopub.execute_input": "2022-05-07T10:38:47.669903Z",
     "iopub.status.busy": "2022-05-07T10:38:47.669661Z",
     "iopub.status.idle": "2022-05-07T10:38:47.844432Z",
     "shell.execute_reply": "2022-05-07T10:38:47.843443Z",
     "shell.execute_reply.started": "2022-05-07T10:38:47.669875Z"
    },
    "hidden": true,
    "jupyter": {
     "source_hidden": true
    }
   },
   "outputs": [
    {
     "data": {
      "text/plain": [
       "<AxesSubplot:xlabel='DiffWalking', ylabel='HeartDisease'>"
      ]
     },
     "execution_count": 73,
     "metadata": {},
     "output_type": "execute_result"
    },
    {
     "data": {
      "image/png": "[encoded data removed]",
      "text/plain": [
       "<Figure size 432x288 with 1 Axes>"
      ]
     },
     "metadata": {
      "needs_background": "light"
     },
     "output_type": "display_data"
    }
   ],
   "source": [
    "sns.barplot(data=t7.sort_values(by='HeartDisease'),x='DiffWalking',y='HeartDisease')"
   ]
  },
  {
   "cell_type": "code",
   "execution_count": 74,
   "metadata": {
    "execution": {
     "iopub.execute_input": "2022-05-07T10:38:47.84608Z",
     "iopub.status.busy": "2022-05-07T10:38:47.845839Z",
     "iopub.status.idle": "2022-05-07T10:38:47.849768Z",
     "shell.execute_reply": "2022-05-07T10:38:47.848947Z",
     "shell.execute_reply.started": "2022-05-07T10:38:47.846049Z"
    },
    "hidden": true
   },
   "outputs": [],
   "source": [
    "## Difficulty in walking is also a good indicator for heart problem"
   ]
  },
  {
   "cell_type": "markdown",
   "metadata": {
    "heading_collapsed": true,
    "hidden": true
   },
   "source": [
    "#### Sex"
   ]
  },
  {
   "cell_type": "code",
   "execution_count": 75,
   "metadata": {
    "_kg_hide-input": true,
    "execution": {
     "iopub.execute_input": "2022-05-07T10:38:47.851089Z",
     "iopub.status.busy": "2022-05-07T10:38:47.850884Z",
     "iopub.status.idle": "2022-05-07T10:38:47.915668Z",
     "shell.execute_reply": "2022-05-07T10:38:47.91491Z",
     "shell.execute_reply.started": "2022-05-07T10:38:47.851063Z"
    },
    "hidden": true,
    "jupyter": {
     "source_hidden": true
    }
   },
   "outputs": [
    {
     "data": {
      "text/plain": [
       "Female    52.472678\n",
       "Male      47.527322\n",
       "Name: Sex, dtype: float64"
      ]
     },
     "execution_count": 75,
     "metadata": {},
     "output_type": "execute_result"
    }
   ],
   "source": [
    "df['Sex'].value_counts()/l*100"
   ]
  },
  {
   "cell_type": "code",
   "execution_count": 76,
   "metadata": {
    "_kg_hide-input": true,
    "execution": {
     "iopub.execute_input": "2022-05-07T10:38:47.917286Z",
     "iopub.status.busy": "2022-05-07T10:38:47.916932Z",
     "iopub.status.idle": "2022-05-07T10:38:48.042258Z",
     "shell.execute_reply": "2022-05-07T10:38:48.041278Z",
     "shell.execute_reply.started": "2022-05-07T10:38:47.917248Z"
    },
    "hidden": true,
    "jupyter": {
     "source_hidden": true
    }
   },
   "outputs": [],
   "source": [
    "t8=dummy_df[[\"HeartDisease\",'Sex']].groupby(['Sex'],as_index=False).mean()"
   ]
  },
  {
   "cell_type": "code",
   "execution_count": 77,
   "metadata": {
    "_kg_hide-input": true,
    "execution": {
     "iopub.execute_input": "2022-05-07T10:38:48.043637Z",
     "iopub.status.busy": "2022-05-07T10:38:48.043396Z",
     "iopub.status.idle": "2022-05-07T10:38:48.221138Z",
     "shell.execute_reply": "2022-05-07T10:38:48.220188Z",
     "shell.execute_reply.started": "2022-05-07T10:38:48.043605Z"
    },
    "hidden": true,
    "jupyter": {
     "source_hidden": true
    }
   },
   "outputs": [
    {
     "data": {
      "text/plain": [
       "<AxesSubplot:xlabel='Sex', ylabel='HeartDisease'>"
      ]
     },
     "execution_count": 77,
     "metadata": {},
     "output_type": "execute_result"
    },
    {
     "data": {
      "image/png": "[encoded data removed]",
      "text/plain": [
       "<Figure size 432x288 with 1 Axes>"
      ]
     },
     "metadata": {
      "needs_background": "light"
     },
     "output_type": "display_data"
    }
   ],
   "source": [
    "sns.barplot(data=t8.sort_values(by='HeartDisease'),x='Sex',y='HeartDisease')"
   ]
  },
  {
   "cell_type": "markdown",
   "metadata": {
    "hidden": true
   },
   "source": [
    "#### AgeCategory\t"
   ]
  },
  {
   "cell_type": "code",
   "execution_count": 78,
   "metadata": {
    "_kg_hide-input": true,
    "execution": {
     "iopub.execute_input": "2022-05-07T10:38:48.222861Z",
     "iopub.status.busy": "2022-05-07T10:38:48.222547Z",
     "iopub.status.idle": "2022-05-07T10:38:48.282061Z",
     "shell.execute_reply": "2022-05-07T10:38:48.281075Z",
     "shell.execute_reply.started": "2022-05-07T10:38:48.222831Z"
    },
    "hidden": true,
    "jupyter": {
     "source_hidden": true
    }
   },
   "outputs": [
    {
     "data": {
      "text/plain": [
       "65-69          10.679029\n",
       "60-64          10.533623\n",
       "70-74           9.714036\n",
       "55-59           9.305024\n",
       "50-54           7.936960\n",
       "80 or older     7.552651\n",
       "45-49           6.814053\n",
       "75-79           6.717428\n",
       "18-24           6.586720\n",
       "40-44           6.568583\n",
       "35-39           6.425992\n",
       "30-34           5.864069\n",
       "25-29           5.301834\n",
       "Name: AgeCategory, dtype: float64"
      ]
     },
     "execution_count": 78,
     "metadata": {},
     "output_type": "execute_result"
    }
   ],
   "source": [
    "df['AgeCategory'].value_counts()/l*100"
   ]
  },
  {
   "cell_type": "code",
   "execution_count": 79,
   "metadata": {
    "_kg_hide-input": true,
    "execution": {
     "iopub.execute_input": "2022-05-07T10:38:48.28402Z",
     "iopub.status.busy": "2022-05-07T10:38:48.283305Z",
     "iopub.status.idle": "2022-05-07T10:38:48.408666Z",
     "shell.execute_reply": "2022-05-07T10:38:48.407961Z",
     "shell.execute_reply.started": "2022-05-07T10:38:48.283937Z"
    },
    "hidden": true,
    "jupyter": {
     "source_hidden": true
    }
   },
   "outputs": [],
   "source": [
    "t9=dummy_df[[\"HeartDisease\",'AgeCategory']].groupby(['AgeCategory'],as_index=False).mean()"
   ]
  },
  {
   "cell_type": "code",
   "execution_count": 80,
   "metadata": {
    "_kg_hide-input": true,
    "execution": {
     "iopub.execute_input": "2022-05-07T10:38:48.410488Z",
     "iopub.status.busy": "2022-05-07T10:38:48.409766Z",
     "iopub.status.idle": "2022-05-07T10:38:48.705206Z",
     "shell.execute_reply": "2022-05-07T10:38:48.704575Z",
     "shell.execute_reply.started": "2022-05-07T10:38:48.410439Z"
    },
    "hidden": true,
    "jupyter": {
     "source_hidden": true
    }
   },
   "outputs": [
    {
     "data": {
      "text/plain": [
       "<AxesSubplot:xlabel='AgeCategory', ylabel='HeartDisease'>"
      ]
     },
     "execution_count": 80,
     "metadata": {},
     "output_type": "execute_result"
    },
    {
     "data": {
      "image/png": "[encoded data removed]",
      "text/plain": [
       "<Figure size 1080x576 with 1 Axes>"
      ]
     },
     "metadata": {
      "needs_background": "light"
     },
     "output_type": "display_data"
    }
   ],
   "source": [
    "fig, ax = plt.subplots(figsize = (15,8))\n",
    "sns.barplot(data=t9.sort_values(by='HeartDisease'),x='AgeCategory',y='HeartDisease')"
   ]
  },
  {
   "cell_type": "code",
   "execution_count": 81,
   "metadata": {
    "execution": {
     "iopub.execute_input": "2022-05-07T10:38:48.706774Z",
     "iopub.status.busy": "2022-05-07T10:38:48.706373Z",
     "iopub.status.idle": "2022-05-07T10:38:48.710204Z",
     "shell.execute_reply": "2022-05-07T10:38:48.70949Z",
     "shell.execute_reply.started": "2022-05-07T10:38:48.706708Z"
    },
    "hidden": true
   },
   "outputs": [],
   "source": [
    "## we could see here that the risk of heart disease increases with age"
   ]
  },
  {
   "cell_type": "code",
   "execution_count": 82,
   "metadata": {
    "execution": {
     "iopub.execute_input": "2022-05-07T10:38:48.711941Z",
     "iopub.status.busy": "2022-05-07T10:38:48.711488Z",
     "iopub.status.idle": "2022-05-07T10:38:48.724758Z",
     "shell.execute_reply": "2022-05-07T10:38:48.723946Z",
     "shell.execute_reply.started": "2022-05-07T10:38:48.711908Z"
    },
    "hidden": true
   },
   "outputs": [],
   "source": [
    "## Let us replace the category of Age with the mean value in that range (or we can do encoding aswell)"
   ]
  },
  {
   "cell_type": "code",
   "execution_count": 83,
   "metadata": {
    "_kg_hide-input": true,
    "execution": {
     "iopub.execute_input": "2022-05-07T10:38:48.727122Z",
     "iopub.status.busy": "2022-05-07T10:38:48.726662Z",
     "iopub.status.idle": "2022-05-07T10:38:48.935081Z",
     "shell.execute_reply": "2022-05-07T10:38:48.934283Z",
     "shell.execute_reply.started": "2022-05-07T10:38:48.727086Z"
    },
    "hidden": true,
    "jupyter": {
     "source_hidden": true
    }
   },
   "outputs": [],
   "source": [
    "AgeCategory_mean = {'18-24':21,'25-29':27,'30-34':32,'35-39':37,'40-44':42,'45-49':47,'50-54':52,'55-59':57, \n",
    "                    '60-64':62,'65-69':67,'70-74':72,'75-79':77,'80 or older':80}\n",
    "\n",
    "df['Mean_Age'] = df['AgeCategory'].apply(lambda x: AgeCategory_mean[x])"
   ]
  },
  {
   "cell_type": "code",
   "execution_count": 84,
   "metadata": {
    "execution": {
     "iopub.execute_input": "2022-05-07T10:38:48.936481Z",
     "iopub.status.busy": "2022-05-07T10:38:48.936147Z",
     "iopub.status.idle": "2022-05-07T10:38:48.998981Z",
     "shell.execute_reply": "2022-05-07T10:38:48.998264Z",
     "shell.execute_reply.started": "2022-05-07T10:38:48.936453Z"
    },
    "hidden": true
   },
   "outputs": [],
   "source": [
    "df.drop(columns=['AgeCategory'],inplace=True)"
   ]
  },
  {
   "cell_type": "markdown",
   "metadata": {
    "heading_collapsed": true,
    "hidden": true
   },
   "source": [
    "#### Race\t"
   ]
  },
  {
   "cell_type": "code",
   "execution_count": 85,
   "metadata": {
    "_kg_hide-input": true,
    "execution": {
     "iopub.execute_input": "2022-05-07T10:38:49.000383Z",
     "iopub.status.busy": "2022-05-07T10:38:49.00006Z",
     "iopub.status.idle": "2022-05-07T10:38:49.058352Z",
     "shell.execute_reply": "2022-05-07T10:38:49.057467Z",
     "shell.execute_reply.started": "2022-05-07T10:38:49.000354Z"
    },
    "hidden": true,
    "jupyter": {
     "source_hidden": true
    }
   },
   "outputs": [
    {
     "data": {
      "text/plain": [
       "White                             76.677872\n",
       "Hispanic                           8.582373\n",
       "Black                              7.173033\n",
       "Other                              3.417189\n",
       "Asian                              2.522866\n",
       "American Indian/Alaskan Native     1.626667\n",
       "Name: Race, dtype: float64"
      ]
     },
     "execution_count": 85,
     "metadata": {},
     "output_type": "execute_result"
    }
   ],
   "source": [
    "df['Race'].value_counts()/l*100"
   ]
  },
  {
   "cell_type": "code",
   "execution_count": 86,
   "metadata": {
    "_kg_hide-input": true,
    "execution": {
     "iopub.execute_input": "2022-05-07T10:38:49.059833Z",
     "iopub.status.busy": "2022-05-07T10:38:49.059584Z",
     "iopub.status.idle": "2022-05-07T10:38:49.173982Z",
     "shell.execute_reply": "2022-05-07T10:38:49.173028Z",
     "shell.execute_reply.started": "2022-05-07T10:38:49.059803Z"
    },
    "hidden": true,
    "jupyter": {
     "source_hidden": true
    }
   },
   "outputs": [],
   "source": [
    "t10=dummy_df[[\"HeartDisease\",'Race']].groupby(['Race'],as_index=False).mean()"
   ]
  },
  {
   "cell_type": "code",
   "execution_count": 87,
   "metadata": {
    "_kg_hide-input": true,
    "execution": {
     "iopub.execute_input": "2022-05-07T10:38:49.175355Z",
     "iopub.status.busy": "2022-05-07T10:38:49.175112Z",
     "iopub.status.idle": "2022-05-07T10:38:49.411566Z",
     "shell.execute_reply": "2022-05-07T10:38:49.410767Z",
     "shell.execute_reply.started": "2022-05-07T10:38:49.175325Z"
    },
    "hidden": true,
    "jupyter": {
     "source_hidden": true
    }
   },
   "outputs": [
    {
     "data": {
      "text/plain": [
       "<AxesSubplot:xlabel='Race', ylabel='HeartDisease'>"
      ]
     },
     "execution_count": 87,
     "metadata": {},
     "output_type": "execute_result"
    },
    {
     "data": {
      "image/png": "[encoded data removed]",
      "text/plain": [
       "<Figure size 1080x576 with 1 Axes>"
      ]
     },
     "metadata": {
      "needs_background": "light"
     },
     "output_type": "display_data"
    }
   ],
   "source": [
    "fig, ax = plt.subplots(figsize = (15,8))\n",
    "sns.barplot(data=t10.sort_values(by='HeartDisease'),x='Race',y='HeartDisease')"
   ]
  },
  {
   "cell_type": "code",
   "execution_count": 88,
   "metadata": {
    "execution": {
     "iopub.execute_input": "2022-05-07T10:38:49.413225Z",
     "iopub.status.busy": "2022-05-07T10:38:49.413011Z",
     "iopub.status.idle": "2022-05-07T10:38:49.416859Z",
     "shell.execute_reply": "2022-05-07T10:38:49.416137Z",
     "shell.execute_reply.started": "2022-05-07T10:38:49.413198Z"
    },
    "hidden": true
   },
   "outputs": [],
   "source": [
    "## The Native Americans look to be at higher risk of the heart disease, which according to recent reports by CDC also is shown\n",
    "## that heart disease is a leading cause of death amongst them and they are more likely to develop a heart issue than the white\n",
    "## people. The asians seem to be having the lowest risk for a heart disease."
   ]
  },
  {
   "cell_type": "code",
   "execution_count": null,
   "metadata": {
    "hidden": true
   },
   "outputs": [],
   "source": []
  },
  {
   "cell_type": "markdown",
   "metadata": {
    "hidden": true
   },
   "source": [
    "#### Diabetic\t"
   ]
  },
  {
   "cell_type": "code",
   "execution_count": 89,
   "metadata": {
    "_kg_hide-input": true,
    "execution": {
     "iopub.execute_input": "2022-05-07T10:38:49.418584Z",
     "iopub.status.busy": "2022-05-07T10:38:49.41837Z",
     "iopub.status.idle": "2022-05-07T10:38:49.484916Z",
     "shell.execute_reply": "2022-05-07T10:38:49.483835Z",
     "shell.execute_reply.started": "2022-05-07T10:38:49.418557Z"
    },
    "hidden": true,
    "jupyter": {
     "source_hidden": true
    }
   },
   "outputs": [
    {
     "data": {
      "text/plain": [
       "No                         84.320580\n",
       "Yes                        12.758799\n",
       "No, borderline diabetes     2.120421\n",
       "Yes (during pregnancy)      0.800200\n",
       "Name: Diabetic, dtype: float64"
      ]
     },
     "execution_count": 89,
     "metadata": {},
     "output_type": "execute_result"
    }
   ],
   "source": [
    "df['Diabetic'].value_counts()/l*100"
   ]
  },
  {
   "cell_type": "code",
   "execution_count": 90,
   "metadata": {
    "_kg_hide-input": true,
    "execution": {
     "iopub.execute_input": "2022-05-07T10:38:49.495439Z",
     "iopub.status.busy": "2022-05-07T10:38:49.494892Z",
     "iopub.status.idle": "2022-05-07T10:38:49.604245Z",
     "shell.execute_reply": "2022-05-07T10:38:49.603275Z",
     "shell.execute_reply.started": "2022-05-07T10:38:49.495404Z"
    },
    "hidden": true,
    "jupyter": {
     "source_hidden": true
    }
   },
   "outputs": [],
   "source": [
    "t11=dummy_df[[\"HeartDisease\",'Diabetic']].groupby(['Diabetic'],as_index=False).mean()"
   ]
  },
  {
   "cell_type": "code",
   "execution_count": 91,
   "metadata": {
    "_kg_hide-input": true,
    "execution": {
     "iopub.execute_input": "2022-05-07T10:38:49.605597Z",
     "iopub.status.busy": "2022-05-07T10:38:49.60537Z",
     "iopub.status.idle": "2022-05-07T10:38:49.826235Z",
     "shell.execute_reply": "2022-05-07T10:38:49.824761Z",
     "shell.execute_reply.started": "2022-05-07T10:38:49.605569Z"
    },
    "hidden": true,
    "jupyter": {
     "source_hidden": true
    }
   },
   "outputs": [
    {
     "data": {
      "text/plain": [
       "<AxesSubplot:xlabel='Diabetic', ylabel='HeartDisease'>"
      ]
     },
     "execution_count": 91,
     "metadata": {},
     "output_type": "execute_result"
    },
    {
     "data": {
      "image/png": "[encoded data removed]",
      "text/plain": [
       "<Figure size 1080x576 with 1 Axes>"
      ]
     },
     "metadata": {
      "needs_background": "light"
     },
     "output_type": "display_data"
    }
   ],
   "source": [
    "fig, ax = plt.subplots(figsize = (15,8))\n",
    "sns.barplot(data=t11.sort_values(by='HeartDisease'),x='Diabetic',y='HeartDisease')"
   ]
  },
  {
   "cell_type": "code",
   "execution_count": 92,
   "metadata": {
    "execution": {
     "iopub.execute_input": "2022-05-07T10:38:49.828449Z",
     "iopub.status.busy": "2022-05-07T10:38:49.827576Z",
     "iopub.status.idle": "2022-05-07T10:38:49.832781Z",
     "shell.execute_reply": "2022-05-07T10:38:49.831712Z",
     "shell.execute_reply.started": "2022-05-07T10:38:49.828401Z"
    },
    "hidden": true
   },
   "outputs": [],
   "source": [
    "## People with Diabetes are at higher risk of a heart disease"
   ]
  },
  {
   "cell_type": "markdown",
   "metadata": {
    "heading_collapsed": true,
    "hidden": true
   },
   "source": [
    "#### KidneyDisease\t"
   ]
  },
  {
   "cell_type": "code",
   "execution_count": 93,
   "metadata": {
    "_kg_hide-input": true,
    "execution": {
     "iopub.execute_input": "2022-05-07T10:38:49.835267Z",
     "iopub.status.busy": "2022-05-07T10:38:49.834247Z",
     "iopub.status.idle": "2022-05-07T10:38:49.899865Z",
     "shell.execute_reply": "2022-05-07T10:38:49.89893Z",
     "shell.execute_reply.started": "2022-05-07T10:38:49.835212Z"
    },
    "hidden": true,
    "jupyter": {
     "source_hidden": true
    }
   },
   "outputs": [
    {
     "data": {
      "text/plain": [
       "No     96.316703\n",
       "Yes     3.683297\n",
       "Name: KidneyDisease, dtype: float64"
      ]
     },
     "execution_count": 93,
     "metadata": {},
     "output_type": "execute_result"
    }
   ],
   "source": [
    "df['KidneyDisease'].value_counts()/l*100"
   ]
  },
  {
   "cell_type": "code",
   "execution_count": 94,
   "metadata": {
    "_kg_hide-input": true,
    "execution": {
     "iopub.execute_input": "2022-05-07T10:38:49.901472Z",
     "iopub.status.busy": "2022-05-07T10:38:49.901218Z",
     "iopub.status.idle": "2022-05-07T10:38:50.025101Z",
     "shell.execute_reply": "2022-05-07T10:38:50.024128Z",
     "shell.execute_reply.started": "2022-05-07T10:38:49.901443Z"
    },
    "hidden": true,
    "jupyter": {
     "source_hidden": true
    }
   },
   "outputs": [],
   "source": [
    "t12=dummy_df[[\"HeartDisease\",'KidneyDisease']].groupby(['KidneyDisease'],as_index=False).mean()"
   ]
  },
  {
   "cell_type": "code",
   "execution_count": 95,
   "metadata": {
    "_kg_hide-input": true,
    "execution": {
     "iopub.execute_input": "2022-05-07T10:38:50.02719Z",
     "iopub.status.busy": "2022-05-07T10:38:50.026621Z",
     "iopub.status.idle": "2022-05-07T10:38:50.210455Z",
     "shell.execute_reply": "2022-05-07T10:38:50.209552Z",
     "shell.execute_reply.started": "2022-05-07T10:38:50.027137Z"
    },
    "hidden": true,
    "jupyter": {
     "source_hidden": true
    }
   },
   "outputs": [
    {
     "data": {
      "text/plain": [
       "<AxesSubplot:xlabel='KidneyDisease', ylabel='HeartDisease'>"
      ]
     },
     "execution_count": 95,
     "metadata": {},
     "output_type": "execute_result"
    },
    {
     "data": {
      "image/png": "[encoded data removed]",
      "text/plain": [
       "<Figure size 432x288 with 1 Axes>"
      ]
     },
     "metadata": {
      "needs_background": "light"
     },
     "output_type": "display_data"
    }
   ],
   "source": [
    "sns.barplot(data=t12.sort_values(by='HeartDisease'),x='KidneyDisease',y='HeartDisease')"
   ]
  },
  {
   "cell_type": "markdown",
   "metadata": {
    "heading_collapsed": true,
    "hidden": true
   },
   "source": [
    "#### SkinCancer\t"
   ]
  },
  {
   "cell_type": "code",
   "execution_count": 96,
   "metadata": {
    "_kg_hide-input": true,
    "execution": {
     "iopub.execute_input": "2022-05-07T10:38:50.212278Z",
     "iopub.status.busy": "2022-05-07T10:38:50.212056Z",
     "iopub.status.idle": "2022-05-07T10:38:50.269198Z",
     "shell.execute_reply": "2022-05-07T10:38:50.268277Z",
     "shell.execute_reply.started": "2022-05-07T10:38:50.212251Z"
    },
    "hidden": true,
    "jupyter": {
     "source_hidden": true
    }
   },
   "outputs": [
    {
     "data": {
      "text/plain": [
       "No     90.675589\n",
       "Yes     9.324411\n",
       "Name: SkinCancer, dtype: float64"
      ]
     },
     "execution_count": 96,
     "metadata": {},
     "output_type": "execute_result"
    }
   ],
   "source": [
    "df['SkinCancer'].value_counts()/l*100"
   ]
  },
  {
   "cell_type": "code",
   "execution_count": 97,
   "metadata": {
    "_kg_hide-input": true,
    "execution": {
     "iopub.execute_input": "2022-05-07T10:38:50.270872Z",
     "iopub.status.busy": "2022-05-07T10:38:50.270527Z",
     "iopub.status.idle": "2022-05-07T10:38:50.389461Z",
     "shell.execute_reply": "2022-05-07T10:38:50.388572Z",
     "shell.execute_reply.started": "2022-05-07T10:38:50.270826Z"
    },
    "hidden": true,
    "jupyter": {
     "source_hidden": true
    }
   },
   "outputs": [],
   "source": [
    "t13=dummy_df[[\"HeartDisease\",'SkinCancer']].groupby(['SkinCancer'],as_index=False).mean()"
   ]
  },
  {
   "cell_type": "code",
   "execution_count": 98,
   "metadata": {
    "_kg_hide-input": true,
    "execution": {
     "iopub.execute_input": "2022-05-07T10:38:50.391084Z",
     "iopub.status.busy": "2022-05-07T10:38:50.390758Z",
     "iopub.status.idle": "2022-05-07T10:38:50.530877Z",
     "shell.execute_reply": "2022-05-07T10:38:50.530006Z",
     "shell.execute_reply.started": "2022-05-07T10:38:50.391043Z"
    },
    "hidden": true,
    "jupyter": {
     "source_hidden": true
    }
   },
   "outputs": [
    {
     "data": {
      "text/plain": [
       "<AxesSubplot:xlabel='SkinCancer', ylabel='HeartDisease'>"
      ]
     },
     "execution_count": 98,
     "metadata": {},
     "output_type": "execute_result"
    },
    {
     "data": {
      "image/png": "[encoded data removed]",
      "text/plain": [
       "<Figure size 432x288 with 1 Axes>"
      ]
     },
     "metadata": {
      "needs_background": "light"
     },
     "output_type": "display_data"
    }
   ],
   "source": [
    "sns.barplot(data=t13.sort_values(by='HeartDisease'),x='SkinCancer',y='HeartDisease')"
   ]
  },
  {
   "cell_type": "markdown",
   "metadata": {
    "heading_collapsed": true,
    "hidden": true
   },
   "source": [
    "#### Asthma\t"
   ]
  },
  {
   "cell_type": "code",
   "execution_count": 99,
   "metadata": {
    "_kg_hide-input": true,
    "execution": {
     "iopub.execute_input": "2022-05-07T10:38:50.53392Z",
     "iopub.status.busy": "2022-05-07T10:38:50.532376Z",
     "iopub.status.idle": "2022-05-07T10:38:50.593331Z",
     "shell.execute_reply": "2022-05-07T10:38:50.592272Z",
     "shell.execute_reply.started": "2022-05-07T10:38:50.533869Z"
    },
    "hidden": true,
    "jupyter": {
     "source_hidden": true
    }
   },
   "outputs": [
    {
     "data": {
      "text/plain": [
       "No     86.593912\n",
       "Yes    13.406088\n",
       "Name: Asthma, dtype: float64"
      ]
     },
     "execution_count": 99,
     "metadata": {},
     "output_type": "execute_result"
    }
   ],
   "source": [
    "df['Asthma'].value_counts()/l*100"
   ]
  },
  {
   "cell_type": "code",
   "execution_count": 100,
   "metadata": {
    "_kg_hide-input": true,
    "execution": {
     "iopub.execute_input": "2022-05-07T10:38:50.59531Z",
     "iopub.status.busy": "2022-05-07T10:38:50.595019Z",
     "iopub.status.idle": "2022-05-07T10:38:50.713477Z",
     "shell.execute_reply": "2022-05-07T10:38:50.712594Z",
     "shell.execute_reply.started": "2022-05-07T10:38:50.595268Z"
    },
    "hidden": true,
    "jupyter": {
     "source_hidden": true
    }
   },
   "outputs": [],
   "source": [
    "t14=dummy_df[[\"HeartDisease\",'Asthma']].groupby(['Asthma'],as_index=False).mean()"
   ]
  },
  {
   "cell_type": "code",
   "execution_count": 101,
   "metadata": {
    "_kg_hide-input": true,
    "execution": {
     "iopub.execute_input": "2022-05-07T10:38:50.715344Z",
     "iopub.status.busy": "2022-05-07T10:38:50.71507Z",
     "iopub.status.idle": "2022-05-07T10:38:50.852658Z",
     "shell.execute_reply": "2022-05-07T10:38:50.851822Z",
     "shell.execute_reply.started": "2022-05-07T10:38:50.715303Z"
    },
    "hidden": true,
    "jupyter": {
     "source_hidden": true
    }
   },
   "outputs": [
    {
     "data": {
      "text/plain": [
       "<AxesSubplot:xlabel='Asthma', ylabel='HeartDisease'>"
      ]
     },
     "execution_count": 101,
     "metadata": {},
     "output_type": "execute_result"
    },
    {
     "data": {
      "image/png": "[encoded data removed]",
      "text/plain": [
       "<Figure size 432x288 with 1 Axes>"
      ]
     },
     "metadata": {
      "needs_background": "light"
     },
     "output_type": "display_data"
    }
   ],
   "source": [
    "sns.barplot(data=t14.sort_values(by='HeartDisease'),x='Asthma',y='HeartDisease')"
   ]
  },
  {
   "cell_type": "code",
   "execution_count": 102,
   "metadata": {
    "execution": {
     "iopub.execute_input": "2022-05-07T10:38:50.855932Z",
     "iopub.status.busy": "2022-05-07T10:38:50.85415Z",
     "iopub.status.idle": "2022-05-07T10:38:50.860213Z",
     "shell.execute_reply": "2022-05-07T10:38:50.859573Z",
     "shell.execute_reply.started": "2022-05-07T10:38:50.855881Z"
    },
    "hidden": true
   },
   "outputs": [],
   "source": [
    "## So asthama is also a good indicator but not as strong as skin cancer and kidney disease"
   ]
  },
  {
   "cell_type": "markdown",
   "metadata": {
    "heading_collapsed": true,
    "hidden": true
   },
   "source": [
    "#### PhysicalActivity\t"
   ]
  },
  {
   "cell_type": "code",
   "execution_count": 103,
   "metadata": {
    "_kg_hide-input": true,
    "execution": {
     "iopub.execute_input": "2022-05-07T10:38:50.864939Z",
     "iopub.status.busy": "2022-05-07T10:38:50.861862Z",
     "iopub.status.idle": "2022-05-07T10:38:50.932255Z",
     "shell.execute_reply": "2022-05-07T10:38:50.931412Z",
     "shell.execute_reply.started": "2022-05-07T10:38:50.864884Z"
    },
    "hidden": true,
    "jupyter": {
     "source_hidden": true
    }
   },
   "outputs": [
    {
     "data": {
      "text/plain": [
       "Yes    77.536234\n",
       "No     22.463766\n",
       "Name: PhysicalActivity, dtype: float64"
      ]
     },
     "execution_count": 103,
     "metadata": {},
     "output_type": "execute_result"
    }
   ],
   "source": [
    "df['PhysicalActivity'].value_counts()/l*100"
   ]
  },
  {
   "cell_type": "code",
   "execution_count": 104,
   "metadata": {
    "_kg_hide-input": true,
    "execution": {
     "iopub.execute_input": "2022-05-07T10:38:50.9337Z",
     "iopub.status.busy": "2022-05-07T10:38:50.933478Z",
     "iopub.status.idle": "2022-05-07T10:38:51.057748Z",
     "shell.execute_reply": "2022-05-07T10:38:51.056712Z",
     "shell.execute_reply.started": "2022-05-07T10:38:50.933673Z"
    },
    "hidden": true,
    "jupyter": {
     "source_hidden": true
    }
   },
   "outputs": [],
   "source": [
    "t15=dummy_df[[\"HeartDisease\",'PhysicalActivity']].groupby(['PhysicalActivity'],as_index=False).mean()"
   ]
  },
  {
   "cell_type": "code",
   "execution_count": 105,
   "metadata": {
    "_kg_hide-input": true,
    "execution": {
     "iopub.execute_input": "2022-05-07T10:38:51.059201Z",
     "iopub.status.busy": "2022-05-07T10:38:51.058977Z",
     "iopub.status.idle": "2022-05-07T10:38:51.208814Z",
     "shell.execute_reply": "2022-05-07T10:38:51.207903Z",
     "shell.execute_reply.started": "2022-05-07T10:38:51.059173Z"
    },
    "hidden": true,
    "jupyter": {
     "source_hidden": true
    }
   },
   "outputs": [
    {
     "data": {
      "text/plain": [
       "<AxesSubplot:xlabel='PhysicalActivity', ylabel='HeartDisease'>"
      ]
     },
     "execution_count": 105,
     "metadata": {},
     "output_type": "execute_result"
    },
    {
     "data": {
      "image/png": "[encoded data removed]",
      "text/plain": [
       "<Figure size 432x288 with 1 Axes>"
      ]
     },
     "metadata": {
      "needs_background": "light"
     },
     "output_type": "display_data"
    }
   ],
   "source": [
    "sns.barplot(data=t15.sort_values(by='HeartDisease'),x='PhysicalActivity',y='HeartDisease')"
   ]
  },
  {
   "cell_type": "code",
   "execution_count": 106,
   "metadata": {
    "execution": {
     "iopub.execute_input": "2022-05-07T10:38:51.21081Z",
     "iopub.status.busy": "2022-05-07T10:38:51.210138Z",
     "iopub.status.idle": "2022-05-07T10:38:51.218474Z",
     "shell.execute_reply": "2022-05-07T10:38:51.217824Z",
     "shell.execute_reply.started": "2022-05-07T10:38:51.210761Z"
    },
    "hidden": true
   },
   "outputs": [],
   "source": [
    "## Doing some physical activity can reduce the risk for heart disease"
   ]
  },
  {
   "cell_type": "markdown",
   "metadata": {
    "hidden": true
   },
   "source": [
    "#### GenHealth\t"
   ]
  },
  {
   "cell_type": "code",
   "execution_count": 107,
   "metadata": {
    "_kg_hide-input": true,
    "execution": {
     "iopub.execute_input": "2022-05-07T10:38:51.22146Z",
     "iopub.status.busy": "2022-05-07T10:38:51.220669Z",
     "iopub.status.idle": "2022-05-07T10:38:51.284295Z",
     "shell.execute_reply": "2022-05-07T10:38:51.283542Z",
     "shell.execute_reply.started": "2022-05-07T10:38:51.221408Z"
    },
    "hidden": true,
    "jupyter": {
     "source_hidden": true
    }
   },
   "outputs": [
    {
     "data": {
      "text/plain": [
       "Very good    35.603433\n",
       "Good         29.121468\n",
       "Excellent    20.901515\n",
       "Fair         10.843509\n",
       "Poor          3.530074\n",
       "Name: GenHealth, dtype: float64"
      ]
     },
     "execution_count": 107,
     "metadata": {},
     "output_type": "execute_result"
    }
   ],
   "source": [
    "df['GenHealth'].value_counts()/l*100"
   ]
  },
  {
   "cell_type": "code",
   "execution_count": 108,
   "metadata": {
    "_kg_hide-input": true,
    "execution": {
     "iopub.execute_input": "2022-05-07T10:38:51.285579Z",
     "iopub.status.busy": "2022-05-07T10:38:51.285365Z",
     "iopub.status.idle": "2022-05-07T10:38:51.409001Z",
     "shell.execute_reply": "2022-05-07T10:38:51.408Z",
     "shell.execute_reply.started": "2022-05-07T10:38:51.285552Z"
    },
    "hidden": true,
    "jupyter": {
     "source_hidden": true
    }
   },
   "outputs": [],
   "source": [
    "t16=dummy_df[[\"HeartDisease\",'GenHealth']].groupby(['GenHealth'],as_index=False).mean()"
   ]
  },
  {
   "cell_type": "code",
   "execution_count": 109,
   "metadata": {
    "_kg_hide-input": true,
    "execution": {
     "iopub.execute_input": "2022-05-07T10:38:51.411171Z",
     "iopub.status.busy": "2022-05-07T10:38:51.410369Z",
     "iopub.status.idle": "2022-05-07T10:38:51.579692Z",
     "shell.execute_reply": "2022-05-07T10:38:51.578815Z",
     "shell.execute_reply.started": "2022-05-07T10:38:51.411122Z"
    },
    "hidden": true,
    "jupyter": {
     "source_hidden": true
    }
   },
   "outputs": [
    {
     "data": {
      "text/plain": [
       "<AxesSubplot:xlabel='GenHealth', ylabel='HeartDisease'>"
      ]
     },
     "execution_count": 109,
     "metadata": {},
     "output_type": "execute_result"
    },
    {
     "data": {
      "image/png": "[encoded data removed]",
      "text/plain": [
       "<Figure size 432x288 with 1 Axes>"
      ]
     },
     "metadata": {
      "needs_background": "light"
     },
     "output_type": "display_data"
    }
   ],
   "source": [
    "sns.barplot(data=t16.sort_values(by='HeartDisease'),x='GenHealth',y='HeartDisease')"
   ]
  },
  {
   "cell_type": "code",
   "execution_count": 110,
   "metadata": {
    "execution": {
     "iopub.execute_input": "2022-05-07T10:38:51.581502Z",
     "iopub.status.busy": "2022-05-07T10:38:51.581196Z",
     "iopub.status.idle": "2022-05-07T10:38:51.586221Z",
     "shell.execute_reply": "2022-05-07T10:38:51.5854Z",
     "shell.execute_reply.started": "2022-05-07T10:38:51.581458Z"
    },
    "hidden": true
   },
   "outputs": [],
   "source": [
    "## The general health is affected with heart disease, which comes as so surprise. Although we can see that even with the general\n",
    "## health in the good region, the heart disease cases are not zero, i.e., your general health being good doesnt exempt you from\n",
    "## the risk of having a heart issue."
   ]
  },
  {
   "cell_type": "code",
   "execution_count": null,
   "metadata": {
    "hidden": true
   },
   "outputs": [],
   "source": []
  },
  {
   "cell_type": "markdown",
   "metadata": {
    "hidden": true
   },
   "source": [
    "## Model building"
   ]
  },
  {
   "cell_type": "markdown",
   "metadata": {
    "hidden": true
   },
   "source": [
    "### Encoding"
   ]
  },
  {
   "cell_type": "code",
   "execution_count": 111,
   "metadata": {
    "_kg_hide-input": true,
    "_kg_hide-output": true,
    "execution": {
     "iopub.execute_input": "2022-05-07T10:38:51.588508Z",
     "iopub.status.busy": "2022-05-07T10:38:51.58793Z",
     "iopub.status.idle": "2022-05-07T10:38:51.623926Z",
     "shell.execute_reply": "2022-05-07T10:38:51.623055Z",
     "shell.execute_reply.started": "2022-05-07T10:38:51.588458Z"
    },
    "hidden": true,
    "jupyter": {
     "source_hidden": true
    }
   },
   "outputs": [
    {
     "data": {
      "text/html": [
       "<div>\n",
       "<style scoped>\n",
       "    .dataframe tbody tr th:only-of-type {\n",
       "        vertical-align: middle;\n",
       "    }\n",
       "\n",
       "    .dataframe tbody tr th {\n",
       "        vertical-align: top;\n",
       "    }\n",
       "\n",
       "    .dataframe thead th {\n",
       "        text-align: right;\n",
       "    }\n",
       "</style>\n",
       "<table border=\"1\" class=\"dataframe\">\n",
       "  <thead>\n",
       "    <tr style=\"text-align: right;\">\n",
       "      <th></th>\n",
       "      <th>HeartDisease</th>\n",
       "      <th>Smoking</th>\n",
       "      <th>Stroke</th>\n",
       "      <th>PhysicalHealth</th>\n",
       "      <th>DiffWalking</th>\n",
       "      <th>Sex</th>\n",
       "      <th>Race</th>\n",
       "      <th>Diabetic</th>\n",
       "      <th>PhysicalActivity</th>\n",
       "      <th>GenHealth</th>\n",
       "      <th>Asthma</th>\n",
       "      <th>KidneyDisease</th>\n",
       "      <th>SkinCancer</th>\n",
       "      <th>BMI_cat</th>\n",
       "      <th>SleepTime_cat</th>\n",
       "      <th>Mean_Age</th>\n",
       "    </tr>\n",
       "  </thead>\n",
       "  <tbody>\n",
       "    <tr>\n",
       "      <th>0</th>\n",
       "      <td>No</td>\n",
       "      <td>Yes</td>\n",
       "      <td>No</td>\n",
       "      <td>3.0</td>\n",
       "      <td>No</td>\n",
       "      <td>Female</td>\n",
       "      <td>White</td>\n",
       "      <td>Yes</td>\n",
       "      <td>Yes</td>\n",
       "      <td>Very good</td>\n",
       "      <td>Yes</td>\n",
       "      <td>No</td>\n",
       "      <td>Yes</td>\n",
       "      <td>Uwt</td>\n",
       "      <td>Low</td>\n",
       "      <td>57</td>\n",
       "    </tr>\n",
       "    <tr>\n",
       "      <th>1</th>\n",
       "      <td>No</td>\n",
       "      <td>No</td>\n",
       "      <td>Yes</td>\n",
       "      <td>0.0</td>\n",
       "      <td>No</td>\n",
       "      <td>Female</td>\n",
       "      <td>White</td>\n",
       "      <td>No</td>\n",
       "      <td>Yes</td>\n",
       "      <td>Very good</td>\n",
       "      <td>No</td>\n",
       "      <td>No</td>\n",
       "      <td>No</td>\n",
       "      <td>N</td>\n",
       "      <td>Normal</td>\n",
       "      <td>80</td>\n",
       "    </tr>\n",
       "    <tr>\n",
       "      <th>2</th>\n",
       "      <td>No</td>\n",
       "      <td>Yes</td>\n",
       "      <td>No</td>\n",
       "      <td>20.0</td>\n",
       "      <td>No</td>\n",
       "      <td>Male</td>\n",
       "      <td>White</td>\n",
       "      <td>Yes</td>\n",
       "      <td>Yes</td>\n",
       "      <td>Fair</td>\n",
       "      <td>Yes</td>\n",
       "      <td>No</td>\n",
       "      <td>No</td>\n",
       "      <td>Owt</td>\n",
       "      <td>Normal</td>\n",
       "      <td>67</td>\n",
       "    </tr>\n",
       "    <tr>\n",
       "      <th>3</th>\n",
       "      <td>No</td>\n",
       "      <td>No</td>\n",
       "      <td>No</td>\n",
       "      <td>0.0</td>\n",
       "      <td>No</td>\n",
       "      <td>Female</td>\n",
       "      <td>White</td>\n",
       "      <td>No</td>\n",
       "      <td>No</td>\n",
       "      <td>Good</td>\n",
       "      <td>No</td>\n",
       "      <td>No</td>\n",
       "      <td>Yes</td>\n",
       "      <td>N</td>\n",
       "      <td>Low</td>\n",
       "      <td>77</td>\n",
       "    </tr>\n",
       "    <tr>\n",
       "      <th>4</th>\n",
       "      <td>No</td>\n",
       "      <td>No</td>\n",
       "      <td>No</td>\n",
       "      <td>28.0</td>\n",
       "      <td>Yes</td>\n",
       "      <td>Female</td>\n",
       "      <td>White</td>\n",
       "      <td>No</td>\n",
       "      <td>Yes</td>\n",
       "      <td>Very good</td>\n",
       "      <td>No</td>\n",
       "      <td>No</td>\n",
       "      <td>No</td>\n",
       "      <td>N</td>\n",
       "      <td>Normal</td>\n",
       "      <td>42</td>\n",
       "    </tr>\n",
       "    <tr>\n",
       "      <th>...</th>\n",
       "      <td>...</td>\n",
       "      <td>...</td>\n",
       "      <td>...</td>\n",
       "      <td>...</td>\n",
       "      <td>...</td>\n",
       "      <td>...</td>\n",
       "      <td>...</td>\n",
       "      <td>...</td>\n",
       "      <td>...</td>\n",
       "      <td>...</td>\n",
       "      <td>...</td>\n",
       "      <td>...</td>\n",
       "      <td>...</td>\n",
       "      <td>...</td>\n",
       "      <td>...</td>\n",
       "      <td>...</td>\n",
       "    </tr>\n",
       "    <tr>\n",
       "      <th>319790</th>\n",
       "      <td>Yes</td>\n",
       "      <td>Yes</td>\n",
       "      <td>No</td>\n",
       "      <td>7.0</td>\n",
       "      <td>Yes</td>\n",
       "      <td>Male</td>\n",
       "      <td>Hispanic</td>\n",
       "      <td>Yes</td>\n",
       "      <td>No</td>\n",
       "      <td>Fair</td>\n",
       "      <td>Yes</td>\n",
       "      <td>No</td>\n",
       "      <td>No</td>\n",
       "      <td>Owt</td>\n",
       "      <td>Low</td>\n",
       "      <td>62</td>\n",
       "    </tr>\n",
       "    <tr>\n",
       "      <th>319791</th>\n",
       "      <td>No</td>\n",
       "      <td>Yes</td>\n",
       "      <td>No</td>\n",
       "      <td>0.0</td>\n",
       "      <td>No</td>\n",
       "      <td>Male</td>\n",
       "      <td>Hispanic</td>\n",
       "      <td>No</td>\n",
       "      <td>Yes</td>\n",
       "      <td>Very good</td>\n",
       "      <td>Yes</td>\n",
       "      <td>No</td>\n",
       "      <td>No</td>\n",
       "      <td>Owt</td>\n",
       "      <td>Low</td>\n",
       "      <td>37</td>\n",
       "    </tr>\n",
       "    <tr>\n",
       "      <th>319792</th>\n",
       "      <td>No</td>\n",
       "      <td>No</td>\n",
       "      <td>No</td>\n",
       "      <td>0.0</td>\n",
       "      <td>No</td>\n",
       "      <td>Female</td>\n",
       "      <td>Hispanic</td>\n",
       "      <td>No</td>\n",
       "      <td>Yes</td>\n",
       "      <td>Good</td>\n",
       "      <td>No</td>\n",
       "      <td>No</td>\n",
       "      <td>No</td>\n",
       "      <td>N</td>\n",
       "      <td>Low</td>\n",
       "      <td>47</td>\n",
       "    </tr>\n",
       "    <tr>\n",
       "      <th>319793</th>\n",
       "      <td>No</td>\n",
       "      <td>No</td>\n",
       "      <td>No</td>\n",
       "      <td>0.0</td>\n",
       "      <td>No</td>\n",
       "      <td>Female</td>\n",
       "      <td>Hispanic</td>\n",
       "      <td>No</td>\n",
       "      <td>No</td>\n",
       "      <td>Good</td>\n",
       "      <td>No</td>\n",
       "      <td>No</td>\n",
       "      <td>No</td>\n",
       "      <td>O</td>\n",
       "      <td>High</td>\n",
       "      <td>27</td>\n",
       "    </tr>\n",
       "    <tr>\n",
       "      <th>319794</th>\n",
       "      <td>No</td>\n",
       "      <td>No</td>\n",
       "      <td>No</td>\n",
       "      <td>0.0</td>\n",
       "      <td>No</td>\n",
       "      <td>Female</td>\n",
       "      <td>Hispanic</td>\n",
       "      <td>No</td>\n",
       "      <td>Yes</td>\n",
       "      <td>Good</td>\n",
       "      <td>No</td>\n",
       "      <td>No</td>\n",
       "      <td>No</td>\n",
       "      <td>EO</td>\n",
       "      <td>Normal</td>\n",
       "      <td>80</td>\n",
       "    </tr>\n",
       "  </tbody>\n",
       "</table>\n",
       "<p>319795 rows × 16 columns</p>\n",
       "</div>"
      ],
      "text/plain": [
       "       HeartDisease Smoking Stroke  PhysicalHealth DiffWalking     Sex  \\\n",
       "0                No     Yes     No             3.0          No  Female   \n",
       "1                No      No    Yes             0.0          No  Female   \n",
       "2                No     Yes     No            20.0          No    Male   \n",
       "3                No      No     No             0.0          No  Female   \n",
       "4                No      No     No            28.0         Yes  Female   \n",
       "...             ...     ...    ...             ...         ...     ...   \n",
       "319790          Yes     Yes     No             7.0         Yes    Male   \n",
       "319791           No     Yes     No             0.0          No    Male   \n",
       "319792           No      No     No             0.0          No  Female   \n",
       "319793           No      No     No             0.0          No  Female   \n",
       "319794           No      No     No             0.0          No  Female   \n",
       "\n",
       "            Race Diabetic PhysicalActivity  GenHealth Asthma KidneyDisease  \\\n",
       "0          White      Yes              Yes  Very good    Yes            No   \n",
       "1          White       No              Yes  Very good     No            No   \n",
       "2          White      Yes              Yes       Fair    Yes            No   \n",
       "3          White       No               No       Good     No            No   \n",
       "4          White       No              Yes  Very good     No            No   \n",
       "...          ...      ...              ...        ...    ...           ...   \n",
       "319790  Hispanic      Yes               No       Fair    Yes            No   \n",
       "319791  Hispanic       No              Yes  Very good    Yes            No   \n",
       "319792  Hispanic       No              Yes       Good     No            No   \n",
       "319793  Hispanic       No               No       Good     No            No   \n",
       "319794  Hispanic       No              Yes       Good     No            No   \n",
       "\n",
       "       SkinCancer BMI_cat SleepTime_cat  Mean_Age  \n",
       "0             Yes     Uwt           Low        57  \n",
       "1              No       N        Normal        80  \n",
       "2              No     Owt        Normal        67  \n",
       "3             Yes       N           Low        77  \n",
       "4              No       N        Normal        42  \n",
       "...           ...     ...           ...       ...  \n",
       "319790         No     Owt           Low        62  \n",
       "319791         No     Owt           Low        37  \n",
       "319792         No       N           Low        47  \n",
       "319793         No       O          High        27  \n",
       "319794         No      EO        Normal        80  \n",
       "\n",
       "[319795 rows x 16 columns]"
      ]
     },
     "execution_count": 111,
     "metadata": {},
     "output_type": "execute_result"
    }
   ],
   "source": [
    "df"
   ]
  },
  {
   "cell_type": "code",
   "execution_count": 112,
   "metadata": {
    "_kg_hide-input": true,
    "execution": {
     "iopub.execute_input": "2022-05-07T10:38:51.626715Z",
     "iopub.status.busy": "2022-05-07T10:38:51.626097Z",
     "iopub.status.idle": "2022-05-07T10:38:53.311066Z",
     "shell.execute_reply": "2022-05-07T10:38:53.310047Z",
     "shell.execute_reply.started": "2022-05-07T10:38:51.626665Z"
    },
    "hidden": true,
    "jupyter": {
     "source_hidden": true
    }
   },
   "outputs": [],
   "source": [
    "encoded_df = df.copy()\n",
    "\n",
    "##Label Encoding\n",
    "le = preprocessing.LabelEncoder()\n",
    "cols=['HeartDisease', 'Smoking', 'Stroke', 'DiffWalking', 'Sex', 'PhysicalActivity', 'Asthma', 'KidneyDisease', 'SkinCancer']\n",
    "\n",
    "for i in cols:\n",
    "    encoded_df[i] = le.fit_transform(encoded_df[i])\n",
    "    \n",
    "le_1=le.fit(encoded_df['GenHealth'])\n",
    "le_1.classes_ = np.array(['Poor', 'Fair','Good','Very good','Excellent'])   ## to assign 0 to Poor and 4 to Excellent\n",
    "encoded_df['GenHealth'] = le_1.transform(encoded_df['GenHealth'])\n",
    "\n",
    "## One hot encoding\n",
    "encoded_df=pd.concat([encoded_df,pd.get_dummies(encoded_df['Race'],prefix='Race',drop_first=True)], axis=1)\n",
    "encoded_df=pd.concat([encoded_df,pd.get_dummies(encoded_df['Diabetic'],prefix='Diabetic',drop_first=True)], axis=1)\n",
    "encoded_df=pd.concat([encoded_df,pd.get_dummies(encoded_df['BMI_cat'],prefix='BMI',drop_first=True)], axis=1)\n",
    "encoded_df=pd.concat([encoded_df,pd.get_dummies(encoded_df['SleepTime_cat'],prefix='SleepTime',drop_first=True)], axis=1)\n",
    "\n",
    "encoded_df.drop(columns=['Race','Diabetic','BMI_cat','SleepTime_cat'],axis=1,inplace=True)"
   ]
  },
  {
   "cell_type": "code",
   "execution_count": 113,
   "metadata": {
    "_kg_hide-input": true,
    "execution": {
     "iopub.execute_input": "2022-05-07T10:38:53.313177Z",
     "iopub.status.busy": "2022-05-07T10:38:53.312413Z",
     "iopub.status.idle": "2022-05-07T10:38:53.342816Z",
     "shell.execute_reply": "2022-05-07T10:38:53.34181Z",
     "shell.execute_reply.started": "2022-05-07T10:38:53.31313Z"
    },
    "hidden": true,
    "jupyter": {
     "source_hidden": true
    }
   },
   "outputs": [
    {
     "data": {
      "text/html": [
       "<div>\n",
       "<style scoped>\n",
       "    .dataframe tbody tr th:only-of-type {\n",
       "        vertical-align: middle;\n",
       "    }\n",
       "\n",
       "    .dataframe tbody tr th {\n",
       "        vertical-align: top;\n",
       "    }\n",
       "\n",
       "    .dataframe thead th {\n",
       "        text-align: right;\n",
       "    }\n",
       "</style>\n",
       "<table border=\"1\" class=\"dataframe\">\n",
       "  <thead>\n",
       "    <tr style=\"text-align: right;\">\n",
       "      <th></th>\n",
       "      <th>HeartDisease</th>\n",
       "      <th>Smoking</th>\n",
       "      <th>Stroke</th>\n",
       "      <th>PhysicalHealth</th>\n",
       "      <th>DiffWalking</th>\n",
       "      <th>Sex</th>\n",
       "      <th>PhysicalActivity</th>\n",
       "      <th>GenHealth</th>\n",
       "      <th>Asthma</th>\n",
       "      <th>KidneyDisease</th>\n",
       "      <th>SkinCancer</th>\n",
       "      <th>Mean_Age</th>\n",
       "      <th>Race_Asian</th>\n",
       "      <th>Race_Black</th>\n",
       "      <th>Race_Hispanic</th>\n",
       "      <th>Race_Other</th>\n",
       "      <th>Race_White</th>\n",
       "      <th>Diabetic_No, borderline diabetes</th>\n",
       "      <th>Diabetic_Yes</th>\n",
       "      <th>Diabetic_Yes (during pregnancy)</th>\n",
       "      <th>BMI_N</th>\n",
       "      <th>BMI_O</th>\n",
       "      <th>BMI_Owt</th>\n",
       "      <th>BMI_Uwt</th>\n",
       "      <th>SleepTime_Low</th>\n",
       "      <th>SleepTime_Normal</th>\n",
       "    </tr>\n",
       "  </thead>\n",
       "  <tbody>\n",
       "    <tr>\n",
       "      <th>0</th>\n",
       "      <td>0</td>\n",
       "      <td>1</td>\n",
       "      <td>0</td>\n",
       "      <td>3.0</td>\n",
       "      <td>0</td>\n",
       "      <td>0</td>\n",
       "      <td>1</td>\n",
       "      <td>3</td>\n",
       "      <td>1</td>\n",
       "      <td>0</td>\n",
       "      <td>1</td>\n",
       "      <td>57</td>\n",
       "      <td>0</td>\n",
       "      <td>0</td>\n",
       "      <td>0</td>\n",
       "      <td>0</td>\n",
       "      <td>1</td>\n",
       "      <td>0</td>\n",
       "      <td>1</td>\n",
       "      <td>0</td>\n",
       "      <td>0</td>\n",
       "      <td>0</td>\n",
       "      <td>0</td>\n",
       "      <td>1</td>\n",
       "      <td>1</td>\n",
       "      <td>0</td>\n",
       "    </tr>\n",
       "    <tr>\n",
       "      <th>1</th>\n",
       "      <td>0</td>\n",
       "      <td>0</td>\n",
       "      <td>1</td>\n",
       "      <td>0.0</td>\n",
       "      <td>0</td>\n",
       "      <td>0</td>\n",
       "      <td>1</td>\n",
       "      <td>3</td>\n",
       "      <td>0</td>\n",
       "      <td>0</td>\n",
       "      <td>0</td>\n",
       "      <td>80</td>\n",
       "      <td>0</td>\n",
       "      <td>0</td>\n",
       "      <td>0</td>\n",
       "      <td>0</td>\n",
       "      <td>1</td>\n",
       "      <td>0</td>\n",
       "      <td>0</td>\n",
       "      <td>0</td>\n",
       "      <td>1</td>\n",
       "      <td>0</td>\n",
       "      <td>0</td>\n",
       "      <td>0</td>\n",
       "      <td>0</td>\n",
       "      <td>1</td>\n",
       "    </tr>\n",
       "    <tr>\n",
       "      <th>2</th>\n",
       "      <td>0</td>\n",
       "      <td>1</td>\n",
       "      <td>0</td>\n",
       "      <td>20.0</td>\n",
       "      <td>0</td>\n",
       "      <td>1</td>\n",
       "      <td>1</td>\n",
       "      <td>1</td>\n",
       "      <td>1</td>\n",
       "      <td>0</td>\n",
       "      <td>0</td>\n",
       "      <td>67</td>\n",
       "      <td>0</td>\n",
       "      <td>0</td>\n",
       "      <td>0</td>\n",
       "      <td>0</td>\n",
       "      <td>1</td>\n",
       "      <td>0</td>\n",
       "      <td>1</td>\n",
       "      <td>0</td>\n",
       "      <td>0</td>\n",
       "      <td>0</td>\n",
       "      <td>1</td>\n",
       "      <td>0</td>\n",
       "      <td>0</td>\n",
       "      <td>1</td>\n",
       "    </tr>\n",
       "    <tr>\n",
       "      <th>3</th>\n",
       "      <td>0</td>\n",
       "      <td>0</td>\n",
       "      <td>0</td>\n",
       "      <td>0.0</td>\n",
       "      <td>0</td>\n",
       "      <td>0</td>\n",
       "      <td>0</td>\n",
       "      <td>2</td>\n",
       "      <td>0</td>\n",
       "      <td>0</td>\n",
       "      <td>1</td>\n",
       "      <td>77</td>\n",
       "      <td>0</td>\n",
       "      <td>0</td>\n",
       "      <td>0</td>\n",
       "      <td>0</td>\n",
       "      <td>1</td>\n",
       "      <td>0</td>\n",
       "      <td>0</td>\n",
       "      <td>0</td>\n",
       "      <td>1</td>\n",
       "      <td>0</td>\n",
       "      <td>0</td>\n",
       "      <td>0</td>\n",
       "      <td>1</td>\n",
       "      <td>0</td>\n",
       "    </tr>\n",
       "    <tr>\n",
       "      <th>4</th>\n",
       "      <td>0</td>\n",
       "      <td>0</td>\n",
       "      <td>0</td>\n",
       "      <td>28.0</td>\n",
       "      <td>1</td>\n",
       "      <td>0</td>\n",
       "      <td>1</td>\n",
       "      <td>3</td>\n",
       "      <td>0</td>\n",
       "      <td>0</td>\n",
       "      <td>0</td>\n",
       "      <td>42</td>\n",
       "      <td>0</td>\n",
       "      <td>0</td>\n",
       "      <td>0</td>\n",
       "      <td>0</td>\n",
       "      <td>1</td>\n",
       "      <td>0</td>\n",
       "      <td>0</td>\n",
       "      <td>0</td>\n",
       "      <td>1</td>\n",
       "      <td>0</td>\n",
       "      <td>0</td>\n",
       "      <td>0</td>\n",
       "      <td>0</td>\n",
       "      <td>1</td>\n",
       "    </tr>\n",
       "    <tr>\n",
       "      <th>...</th>\n",
       "      <td>...</td>\n",
       "      <td>...</td>\n",
       "      <td>...</td>\n",
       "      <td>...</td>\n",
       "      <td>...</td>\n",
       "      <td>...</td>\n",
       "      <td>...</td>\n",
       "      <td>...</td>\n",
       "      <td>...</td>\n",
       "      <td>...</td>\n",
       "      <td>...</td>\n",
       "      <td>...</td>\n",
       "      <td>...</td>\n",
       "      <td>...</td>\n",
       "      <td>...</td>\n",
       "      <td>...</td>\n",
       "      <td>...</td>\n",
       "      <td>...</td>\n",
       "      <td>...</td>\n",
       "      <td>...</td>\n",
       "      <td>...</td>\n",
       "      <td>...</td>\n",
       "      <td>...</td>\n",
       "      <td>...</td>\n",
       "      <td>...</td>\n",
       "      <td>...</td>\n",
       "    </tr>\n",
       "    <tr>\n",
       "      <th>319790</th>\n",
       "      <td>1</td>\n",
       "      <td>1</td>\n",
       "      <td>0</td>\n",
       "      <td>7.0</td>\n",
       "      <td>1</td>\n",
       "      <td>1</td>\n",
       "      <td>0</td>\n",
       "      <td>1</td>\n",
       "      <td>1</td>\n",
       "      <td>0</td>\n",
       "      <td>0</td>\n",
       "      <td>62</td>\n",
       "      <td>0</td>\n",
       "      <td>0</td>\n",
       "      <td>1</td>\n",
       "      <td>0</td>\n",
       "      <td>0</td>\n",
       "      <td>0</td>\n",
       "      <td>1</td>\n",
       "      <td>0</td>\n",
       "      <td>0</td>\n",
       "      <td>0</td>\n",
       "      <td>1</td>\n",
       "      <td>0</td>\n",
       "      <td>1</td>\n",
       "      <td>0</td>\n",
       "    </tr>\n",
       "    <tr>\n",
       "      <th>319791</th>\n",
       "      <td>0</td>\n",
       "      <td>1</td>\n",
       "      <td>0</td>\n",
       "      <td>0.0</td>\n",
       "      <td>0</td>\n",
       "      <td>1</td>\n",
       "      <td>1</td>\n",
       "      <td>3</td>\n",
       "      <td>1</td>\n",
       "      <td>0</td>\n",
       "      <td>0</td>\n",
       "      <td>37</td>\n",
       "      <td>0</td>\n",
       "      <td>0</td>\n",
       "      <td>1</td>\n",
       "      <td>0</td>\n",
       "      <td>0</td>\n",
       "      <td>0</td>\n",
       "      <td>0</td>\n",
       "      <td>0</td>\n",
       "      <td>0</td>\n",
       "      <td>0</td>\n",
       "      <td>1</td>\n",
       "      <td>0</td>\n",
       "      <td>1</td>\n",
       "      <td>0</td>\n",
       "    </tr>\n",
       "    <tr>\n",
       "      <th>319792</th>\n",
       "      <td>0</td>\n",
       "      <td>0</td>\n",
       "      <td>0</td>\n",
       "      <td>0.0</td>\n",
       "      <td>0</td>\n",
       "      <td>0</td>\n",
       "      <td>1</td>\n",
       "      <td>2</td>\n",
       "      <td>0</td>\n",
       "      <td>0</td>\n",
       "      <td>0</td>\n",
       "      <td>47</td>\n",
       "      <td>0</td>\n",
       "      <td>0</td>\n",
       "      <td>1</td>\n",
       "      <td>0</td>\n",
       "      <td>0</td>\n",
       "      <td>0</td>\n",
       "      <td>0</td>\n",
       "      <td>0</td>\n",
       "      <td>1</td>\n",
       "      <td>0</td>\n",
       "      <td>0</td>\n",
       "      <td>0</td>\n",
       "      <td>1</td>\n",
       "      <td>0</td>\n",
       "    </tr>\n",
       "    <tr>\n",
       "      <th>319793</th>\n",
       "      <td>0</td>\n",
       "      <td>0</td>\n",
       "      <td>0</td>\n",
       "      <td>0.0</td>\n",
       "      <td>0</td>\n",
       "      <td>0</td>\n",
       "      <td>0</td>\n",
       "      <td>2</td>\n",
       "      <td>0</td>\n",
       "      <td>0</td>\n",
       "      <td>0</td>\n",
       "      <td>27</td>\n",
       "      <td>0</td>\n",
       "      <td>0</td>\n",
       "      <td>1</td>\n",
       "      <td>0</td>\n",
       "      <td>0</td>\n",
       "      <td>0</td>\n",
       "      <td>0</td>\n",
       "      <td>0</td>\n",
       "      <td>0</td>\n",
       "      <td>1</td>\n",
       "      <td>0</td>\n",
       "      <td>0</td>\n",
       "      <td>0</td>\n",
       "      <td>0</td>\n",
       "    </tr>\n",
       "    <tr>\n",
       "      <th>319794</th>\n",
       "      <td>0</td>\n",
       "      <td>0</td>\n",
       "      <td>0</td>\n",
       "      <td>0.0</td>\n",
       "      <td>0</td>\n",
       "      <td>0</td>\n",
       "      <td>1</td>\n",
       "      <td>2</td>\n",
       "      <td>0</td>\n",
       "      <td>0</td>\n",
       "      <td>0</td>\n",
       "      <td>80</td>\n",
       "      <td>0</td>\n",
       "      <td>0</td>\n",
       "      <td>1</td>\n",
       "      <td>0</td>\n",
       "      <td>0</td>\n",
       "      <td>0</td>\n",
       "      <td>0</td>\n",
       "      <td>0</td>\n",
       "      <td>0</td>\n",
       "      <td>0</td>\n",
       "      <td>0</td>\n",
       "      <td>0</td>\n",
       "      <td>0</td>\n",
       "      <td>1</td>\n",
       "    </tr>\n",
       "  </tbody>\n",
       "</table>\n",
       "<p>319795 rows × 26 columns</p>\n",
       "</div>"
      ],
      "text/plain": [
       "        HeartDisease  Smoking  Stroke  PhysicalHealth  DiffWalking  Sex  \\\n",
       "0                  0        1       0             3.0            0    0   \n",
       "1                  0        0       1             0.0            0    0   \n",
       "2                  0        1       0            20.0            0    1   \n",
       "3                  0        0       0             0.0            0    0   \n",
       "4                  0        0       0            28.0            1    0   \n",
       "...              ...      ...     ...             ...          ...  ...   \n",
       "319790             1        1       0             7.0            1    1   \n",
       "319791             0        1       0             0.0            0    1   \n",
       "319792             0        0       0             0.0            0    0   \n",
       "319793             0        0       0             0.0            0    0   \n",
       "319794             0        0       0             0.0            0    0   \n",
       "\n",
       "        PhysicalActivity  GenHealth  Asthma  KidneyDisease  SkinCancer  \\\n",
       "0                      1          3       1              0           1   \n",
       "1                      1          3       0              0           0   \n",
       "2                      1          1       1              0           0   \n",
       "3                      0          2       0              0           1   \n",
       "4                      1          3       0              0           0   \n",
       "...                  ...        ...     ...            ...         ...   \n",
       "319790                 0          1       1              0           0   \n",
       "319791                 1          3       1              0           0   \n",
       "319792                 1          2       0              0           0   \n",
       "319793                 0          2       0              0           0   \n",
       "319794                 1          2       0              0           0   \n",
       "\n",
       "        Mean_Age  Race_Asian  Race_Black  Race_Hispanic  Race_Other  \\\n",
       "0             57           0           0              0           0   \n",
       "1             80           0           0              0           0   \n",
       "2             67           0           0              0           0   \n",
       "3             77           0           0              0           0   \n",
       "4             42           0           0              0           0   \n",
       "...          ...         ...         ...            ...         ...   \n",
       "319790        62           0           0              1           0   \n",
       "319791        37           0           0              1           0   \n",
       "319792        47           0           0              1           0   \n",
       "319793        27           0           0              1           0   \n",
       "319794        80           0           0              1           0   \n",
       "\n",
       "        Race_White  Diabetic_No, borderline diabetes  Diabetic_Yes  \\\n",
       "0                1                                 0             1   \n",
       "1                1                                 0             0   \n",
       "2                1                                 0             1   \n",
       "3                1                                 0             0   \n",
       "4                1                                 0             0   \n",
       "...            ...                               ...           ...   \n",
       "319790           0                                 0             1   \n",
       "319791           0                                 0             0   \n",
       "319792           0                                 0             0   \n",
       "319793           0                                 0             0   \n",
       "319794           0                                 0             0   \n",
       "\n",
       "        Diabetic_Yes (during pregnancy)  BMI_N  BMI_O  BMI_Owt  BMI_Uwt  \\\n",
       "0                                     0      0      0        0        1   \n",
       "1                                     0      1      0        0        0   \n",
       "2                                     0      0      0        1        0   \n",
       "3                                     0      1      0        0        0   \n",
       "4                                     0      1      0        0        0   \n",
       "...                                 ...    ...    ...      ...      ...   \n",
       "319790                                0      0      0        1        0   \n",
       "319791                                0      0      0        1        0   \n",
       "319792                                0      1      0        0        0   \n",
       "319793                                0      0      1        0        0   \n",
       "319794                                0      0      0        0        0   \n",
       "\n",
       "        SleepTime_Low  SleepTime_Normal  \n",
       "0                   1                 0  \n",
       "1                   0                 1  \n",
       "2                   0                 1  \n",
       "3                   1                 0  \n",
       "4                   0                 1  \n",
       "...               ...               ...  \n",
       "319790              1                 0  \n",
       "319791              1                 0  \n",
       "319792              1                 0  \n",
       "319793              0                 0  \n",
       "319794              0                 1  \n",
       "\n",
       "[319795 rows x 26 columns]"
      ]
     },
     "metadata": {},
     "output_type": "display_data"
    }
   ],
   "source": [
    "from IPython.display import display\n",
    "with pd.option_context('display.max_columns', 30):\n",
    "    display(encoded_df)"
   ]
  },
  {
   "cell_type": "markdown",
   "metadata": {
    "hidden": true
   },
   "source": [
    "### Standardization"
   ]
  },
  {
   "cell_type": "code",
   "execution_count": 114,
   "metadata": {
    "_kg_hide-input": true,
    "execution": {
     "iopub.execute_input": "2022-05-07T10:38:53.344987Z",
     "iopub.status.busy": "2022-05-07T10:38:53.344424Z",
     "iopub.status.idle": "2022-05-07T10:38:53.350255Z",
     "shell.execute_reply": "2022-05-07T10:38:53.349187Z",
     "shell.execute_reply.started": "2022-05-07T10:38:53.344932Z"
    },
    "hidden": true,
    "jupyter": {
     "source_hidden": true
    }
   },
   "outputs": [],
   "source": [
    "from sklearn.preprocessing import StandardScaler\n",
    "sc = StandardScaler()"
   ]
  },
  {
   "cell_type": "code",
   "execution_count": 115,
   "metadata": {
    "_kg_hide-input": true,
    "execution": {
     "iopub.execute_input": "2022-05-07T10:38:53.352081Z",
     "iopub.status.busy": "2022-05-07T10:38:53.351781Z",
     "iopub.status.idle": "2022-05-07T10:38:53.37342Z",
     "shell.execute_reply": "2022-05-07T10:38:53.372714Z",
     "shell.execute_reply.started": "2022-05-07T10:38:53.352041Z"
    },
    "hidden": true,
    "jupyter": {
     "source_hidden": true
    }
   },
   "outputs": [],
   "source": [
    "X=encoded_df.drop(columns=['HeartDisease'],axis=1)\n",
    "y=encoded_df['HeartDisease']\n",
    "\n",
    "col=X.columns"
   ]
  },
  {
   "cell_type": "code",
   "execution_count": 116,
   "metadata": {
    "execution": {
     "iopub.execute_input": "2022-05-07T10:38:53.380705Z",
     "iopub.status.busy": "2022-05-07T10:38:53.380499Z",
     "iopub.status.idle": "2022-05-07T10:38:53.565047Z",
     "shell.execute_reply": "2022-05-07T10:38:53.563814Z",
     "shell.execute_reply.started": "2022-05-07T10:38:53.380676Z"
    },
    "hidden": true
   },
   "outputs": [],
   "source": [
    "encod_stand_df = sc.fit_transform(X)\n",
    "es_df = pd.DataFrame(encod_stand_df, columns = col)"
   ]
  },
  {
   "cell_type": "markdown",
   "metadata": {
    "hidden": true
   },
   "source": [
    "### Train test split"
   ]
  },
  {
   "cell_type": "code",
   "execution_count": 117,
   "metadata": {
    "execution": {
     "iopub.execute_input": "2022-05-07T10:38:53.566891Z",
     "iopub.status.busy": "2022-05-07T10:38:53.566608Z",
     "iopub.status.idle": "2022-05-07T10:38:53.673778Z",
     "shell.execute_reply": "2022-05-07T10:38:53.672902Z",
     "shell.execute_reply.started": "2022-05-07T10:38:53.566858Z"
    },
    "hidden": true
   },
   "outputs": [],
   "source": [
    "X_train, X_test, y_train, y_test = train_test_split(es_df,y,test_size =0.2,random_state = 42)"
   ]
  },
  {
   "cell_type": "markdown",
   "metadata": {
    "hidden": true
   },
   "source": [
    "### Creating evaluation metrics"
   ]
  },
  {
   "cell_type": "code",
   "execution_count": 118,
   "metadata": {
    "_kg_hide-input": true,
    "execution": {
     "iopub.execute_input": "2022-05-07T10:38:53.67576Z",
     "iopub.status.busy": "2022-05-07T10:38:53.675437Z",
     "iopub.status.idle": "2022-05-07T10:38:53.687367Z",
     "shell.execute_reply": "2022-05-07T10:38:53.686061Z",
     "shell.execute_reply.started": "2022-05-07T10:38:53.675693Z"
    },
    "hidden": true,
    "jupyter": {
     "source_hidden": true
    }
   },
   "outputs": [],
   "source": [
    "def plot_confusion_matrix(model,X_test,y_test,normalize=False):\n",
    "    \"\"\"\n",
    "        Computes and plots the confusion matrix.         \n",
    "        \n",
    "        \n",
    "        Parameters\n",
    "        ----------\n",
    "        \n",
    "        model : ML model\n",
    "            A trained model for which ROC is to be computed\n",
    "        X_test: pandas.DataFrame\n",
    "            Testing data for independent variables(features)\n",
    "        y_test: pandas.Series\n",
    "            Testing data for target variables\n",
    "        normalize : boolean, default=False\n",
    "            To normalize the matrix\n",
    "        \n",
    "    \"\"\"\n",
    "    y_pred = model.predict(X_test)\n",
    "    cm = confusion_matrix(y_test, y_pred)\n",
    "    classes=[\"No\", \"Yes\"]\n",
    "    if normalize:\n",
    "        cm = cm.astype('float') / cm.sum(axis=1)[:, np.newaxis]\n",
    "        cm = np.around(cm, decimals=3)\n",
    "    plt.imshow(cm, interpolation='nearest', cmap=plt.cm.Blues)\n",
    "    plt.title(\"Confusion Matrix\")\n",
    "    plt.colorbar()\n",
    "    tick_marks = np.arange(len(classes))\n",
    "    plt.xticks(tick_marks, classes, rotation=45)\n",
    "    plt.yticks(tick_marks, classes)\n",
    "    thresh = cm.max() / 2.\n",
    "    for i, j in itertools.product(range(cm.shape[0]), range(cm.shape[1])):\n",
    "        plt.text(j, i, cm[i, j],\n",
    "                 horizontalalignment=\"center\",\n",
    "                 color=\"white\" if cm[i, j] > thresh else \"black\")\n",
    "    plt.tight_layout()\n",
    "    plt.ylabel('True label')\n",
    "    plt.xlabel('Predicted label')"
   ]
  },
  {
   "cell_type": "code",
   "execution_count": 119,
   "metadata": {
    "_kg_hide-input": true,
    "execution": {
     "iopub.execute_input": "2022-05-07T10:38:53.689986Z",
     "iopub.status.busy": "2022-05-07T10:38:53.689405Z",
     "iopub.status.idle": "2022-05-07T10:38:53.706561Z",
     "shell.execute_reply": "2022-05-07T10:38:53.705844Z",
     "shell.execute_reply.started": "2022-05-07T10:38:53.689948Z"
    },
    "hidden": true,
    "jupyter": {
     "source_hidden": true
    }
   },
   "outputs": [],
   "source": [
    "def plot_roc(model,X_test,y_test,plot_threshold=False,t=0.5):\n",
    "    \"\"\"\n",
    "        Computes and plots the ROC curve and AUC. It also plots a given threshold value        \n",
    "        \n",
    "        \n",
    "        Parameters\n",
    "        ----------\n",
    "        \n",
    "        model : ML model\n",
    "            A trained model for which ROC is to be computed\n",
    "        X_test: pandas.DataFrame\n",
    "            Testing data for independent variables(features)\n",
    "        y_test: pandas.Series\n",
    "            Testing data for target variables\n",
    "        plot_threshold : boolean, default=False\n",
    "            Whether to plot the given threshold or not.\n",
    "        t : float, default=0.5\n",
    "            Threshold value to plot on the graph\n",
    "    \"\"\"\n",
    "    \n",
    "    y_pred_proba = model.predict_proba(X_test)[::,1]\n",
    "    fpr, tpr, thresh = roc_curve(y_test,  y_pred_proba)\n",
    "    auc = roc_auc_score(y_test, y_pred_proba)\n",
    "    \n",
    "\n",
    "    # margins for text threshold\n",
    "    y_text_margin=0.05\n",
    "    x_text_margin=0.2\n",
    "    \n",
    "    \n",
    "    x_thresh, y_thresh = fpr[np.argmin(abs(thresh - t))], tpr[np.argmin(abs(thresh - t))]\n",
    "    \n",
    "    ## np.argmin(abs(thresh - t)) will give you the index of the min element in the array (thresh-t)\n",
    "    ## since 'thresh' array wont have the exact threshold 't' in it, so we need the\n",
    "    ## one which is the closest (if t is in thresh then (thresh - t) would be zero and the min in abs(thresh - t) )\n",
    "\n",
    "    # Roc curve\n",
    "    plt.plot(fpr, tpr,lw=2,label='ROC curve (AUC = %0.2f)' % auc,linestyle='-')\n",
    "    \n",
    "    # Reference line\n",
    "    plt.plot([0, 1], [0, 1],label=\"Random guess\",color='red',lw=2, linestyle='--')\n",
    "    \n",
    "    # Plotting threshold\n",
    "    if plot_threshold:\n",
    "    \n",
    "        plt.axhline(y=y_thresh,lw=2,color='black',linestyle=':')\n",
    "        plt.axvline(x=x_thresh,lw=2,color='black',linestyle=':')\n",
    "        \n",
    "        # text for threshold\n",
    "        if x_thresh > 0.5 and y_thresh > 0.5:\n",
    "            plt.text(x=x_thresh - x_text_margin, y=y_thresh - y_text_margin,s='Threshold : {:.2f}'.format(t))\n",
    "        elif x_thresh <= 0.5 and y_thresh <= 0.5:\n",
    "            plt.text(x=x_thresh + x_text_margin, y=y_thresh + y_text_margin,s='Threshold : {:.2f}'.format(t))\n",
    "        elif x_thresh <= 0.5 < y_thresh:\n",
    "            plt.text(x=x_thresh + x_text_margin, y=y_thresh - y_text_margin,s='Threshold : {:.2f}'.format(t))\n",
    "        elif x_thresh > 0.5 >= y_thresh:\n",
    "            plt.text(x=x_thresh - x_text_margin, y=y_thresh + y_text_margin,s='Threshold : {:.2f}'.format(t))\n",
    "        \n",
    "        plt.plot(x_thresh, y_thresh, 'ro')  # redpoint of threshold on the ROC curve\n",
    "    \n",
    "    plt.xlabel('False Positive Rate')\n",
    "    plt.ylabel('True Positive Rate')\n",
    "    plt.legend(loc=0)"
   ]
  },
  {
   "cell_type": "code",
   "execution_count": 120,
   "metadata": {
    "_kg_hide-input": true,
    "execution": {
     "iopub.execute_input": "2022-05-07T10:38:53.708565Z",
     "iopub.status.busy": "2022-05-07T10:38:53.707692Z",
     "iopub.status.idle": "2022-05-07T10:38:53.725964Z",
     "shell.execute_reply": "2022-05-07T10:38:53.725043Z",
     "shell.execute_reply.started": "2022-05-07T10:38:53.708512Z"
    },
    "hidden": true,
    "jupyter": {
     "source_hidden": true
    }
   },
   "outputs": [],
   "source": [
    "def plot_prc(model,X_test,y_test):\n",
    "    \"\"\"\n",
    "        Computes and plots the precision-recall curve and AUC.        \n",
    "        \n",
    "        \n",
    "        Parameters\n",
    "        ----------\n",
    "        \n",
    "        model : ML model\n",
    "            A trained model for which ROC is to be computed\n",
    "        X_test: pandas.DataFrame\n",
    "            Testing data for independent variables(features)\n",
    "        y_test: pandas.Series\n",
    "            Testing data for target variables\n",
    "        \n",
    "    \"\"\"\n",
    "    \n",
    "    y_pred_proba = model.predict_proba(X_test)[::,1]\n",
    "    prec, rec, thresh = precision_recall_curve(y_test,  y_pred_proba)\n",
    "    auc_val = average_precision_score(y_test, y_pred_proba)\n",
    "\n",
    "    \n",
    "    rand = len(y_test[y_test==1]) / len(y_test)\n",
    "    plt.plot([0, 1], [rand, rand],color='red', linestyle='--', label='Random')\n",
    "    plt.plot(rec, prec, marker='.', label='PR curve (AUC = %0.2f)' % auc_val,linestyle='-',color='orange')\n",
    "    \n",
    "\n",
    "    plt.xlabel('Recall')\n",
    "    plt.ylabel('Precision')\n",
    "    plt.legend(loc=0)\n",
    "    "
   ]
  },
  {
   "cell_type": "markdown",
   "metadata": {
    "hidden": true
   },
   "source": [
    "### Model"
   ]
  },
  {
   "cell_type": "markdown",
   "metadata": {
    "hidden": true
   },
   "source": [
    "#### Random Forest"
   ]
  },
  {
   "cell_type": "code",
   "execution_count": 121,
   "metadata": {},
   "outputs": [],
   "source": [
    "from sklearn.metrics import roc_auc_score"
   ]
  },
  {
   "cell_type": "code",
   "execution_count": 123,
   "metadata": {
    "_kg_hide-input": true,
    "execution": {
     "iopub.execute_input": "2022-05-07T10:38:53.727444Z",
     "iopub.status.busy": "2022-05-07T10:38:53.727204Z",
     "iopub.status.idle": "2022-05-07T10:39:21.710656Z",
     "shell.execute_reply": "2022-05-07T10:39:21.709603Z",
     "shell.execute_reply.started": "2022-05-07T10:38:53.727415Z"
    },
    "hidden": true,
    "scrolled": true
   },
   "outputs": [
    {
     "name": "stdout",
     "output_type": "stream",
     "text": [
      "Accuracy: 0.9043606060132272\n",
      "\n",
      "\t\t\tClassification report\n",
      "               precision    recall  f1-score   support\n",
      "\n",
      "           0       0.92      0.98      0.95     58367\n",
      "           1       0.37      0.13      0.20      5592\n",
      "\n",
      "    accuracy                           0.90     63959\n",
      "   macro avg       0.65      0.56      0.57     63959\n",
      "weighted avg       0.87      0.90      0.88     63959\n",
      "\n",
      "auc  0.555652736337358\n"
     ]
    }
   ],
   "source": [
    "model_rf = RandomForestClassifier(random_state=42)\n",
    "model_rf.fit(X_train,y_train)\n",
    "\n",
    "\n",
    "y_pred = model_rf.predict(X_test)\n",
    "print(\"Accuracy:\",accuracy_score(y_test, y_pred))\n",
    "print(\"\\n\\t\\t\\tClassification report\\n\",classification_report(y_test, y_pred))\n",
    "print(\"auc \" ,roc_auc_score(y_test, y_pred))"
   ]
  },
  {
   "cell_type": "code",
   "execution_count": null,
   "metadata": {
    "execution": {
     "iopub.execute_input": "2022-05-07T10:39:21.712055Z",
     "iopub.status.busy": "2022-05-07T10:39:21.711831Z",
     "iopub.status.idle": "2022-05-07T10:39:21.716553Z",
     "shell.execute_reply": "2022-05-07T10:39:21.715696Z",
     "shell.execute_reply.started": "2022-05-07T10:39:21.712027Z"
    },
    "hidden": true
   },
   "outputs": [],
   "source": [
    "## Since this is an imbalanced dataset, so we focus on better precision or recall than accuracy of the minority class. \n",
    "## Recall is much preferred in this case since its better to detect a heart patient at the cost of more False positives rather\n",
    "## than high precision where we might ignore a lot of True cases (heart risk patients) to improve our correct predictions.\n",
    "\n",
    "## (Its better to tell a false result to a no heart risk patient than telling a heart patient, as the former might cause \n",
    "## unnecessary doctor visit but the later might lead to the ignore of an underlying disease, which is obviously much worse.)"
   ]
  },
  {
   "cell_type": "code",
   "execution_count": null,
   "metadata": {
    "hidden": true
   },
   "outputs": [],
   "source": []
  },
  {
   "cell_type": "code",
   "execution_count": 124,
   "metadata": {
    "_kg_hide-input": true,
    "execution": {
     "iopub.execute_input": "2022-05-07T10:39:21.718243Z",
     "iopub.status.busy": "2022-05-07T10:39:21.717694Z",
     "iopub.status.idle": "2022-05-07T10:41:03.943543Z",
     "shell.execute_reply": "2022-05-07T10:41:03.942755Z",
     "shell.execute_reply.started": "2022-05-07T10:39:21.718209Z"
    },
    "hidden": true
   },
   "outputs": [
    {
     "name": "stdout",
     "output_type": "stream",
     "text": [
      "Accuracy: 0.7453993964883754\n",
      "\n",
      "\t\t\tClassification report\n",
      "               precision    recall  f1-score   support\n",
      "\n",
      "           0       0.97      0.74      0.84     58367\n",
      "           1       0.23      0.79      0.35      5592\n",
      "\n",
      "    accuracy                           0.75     63959\n",
      "   macro avg       0.60      0.76      0.60     63959\n",
      "weighted avg       0.91      0.75      0.80     63959\n",
      "\n",
      "auc  0.7634870106726632\n"
     ]
    }
   ],
   "source": [
    "model_rf = RandomForestClassifier(random_state=42)\n",
    "model_rf.set_params(n_estimators=500, class_weight=\"balanced\",max_depth=30,min_samples_split= 30,min_samples_leaf=24)\n",
    "model_rf.fit(X_train,y_train)\n",
    "\n",
    "y_pred = model_rf.predict(X_test)\n",
    "print(\"Accuracy:\",accuracy_score(y_test, y_pred))\n",
    "print(\"\\n\\t\\t\\tClassification report\\n\",classification_report(y_test, y_pred))\n",
    "print(\"auc \" ,roc_auc_score(y_test, y_pred))"
   ]
  },
  {
   "cell_type": "code",
   "execution_count": null,
   "metadata": {
    "execution": {
     "iopub.execute_input": "2022-05-07T10:41:03.945094Z",
     "iopub.status.busy": "2022-05-07T10:41:03.944884Z",
     "iopub.status.idle": "2022-05-07T10:41:03.948545Z",
     "shell.execute_reply": "2022-05-07T10:41:03.947699Z",
     "shell.execute_reply.started": "2022-05-07T10:41:03.945068Z"
    },
    "hidden": true
   },
   "outputs": [],
   "source": [
    "## here we have good recall for the minority class"
   ]
  },
  {
   "cell_type": "code",
   "execution_count": null,
   "metadata": {
    "_kg_hide-input": true,
    "execution": {
     "iopub.execute_input": "2022-05-07T10:41:03.950223Z",
     "iopub.status.busy": "2022-05-07T10:41:03.949978Z",
     "iopub.status.idle": "2022-05-07T10:55:13.40364Z",
     "shell.execute_reply": "2022-05-07T10:55:13.402634Z",
     "shell.execute_reply.started": "2022-05-07T10:41:03.950196Z"
    },
    "hidden": true
   },
   "outputs": [],
   "source": [
    "print('Cross validation score: ',cross_val_score(model_rf, X_train, y_train, cv=10).mean())"
   ]
  },
  {
   "cell_type": "code",
   "execution_count": null,
   "metadata": {
    "_kg_hide-input": true,
    "execution": {
     "iopub.execute_input": "2022-05-07T10:55:13.405108Z",
     "iopub.status.busy": "2022-05-07T10:55:13.404878Z",
     "iopub.status.idle": "2022-05-07T10:55:19.71049Z",
     "shell.execute_reply": "2022-05-07T10:55:19.709639Z",
     "shell.execute_reply.started": "2022-05-07T10:55:13.40508Z"
    },
    "hidden": true
   },
   "outputs": [],
   "source": [
    "plot_confusion_matrix(model_rf,X_test,y_test,normalize=True)"
   ]
  },
  {
   "cell_type": "code",
   "execution_count": null,
   "metadata": {
    "_kg_hide-input": true,
    "execution": {
     "iopub.execute_input": "2022-05-07T10:55:19.712179Z",
     "iopub.status.busy": "2022-05-07T10:55:19.711719Z",
     "iopub.status.idle": "2022-05-07T10:55:25.993045Z",
     "shell.execute_reply": "2022-05-07T10:55:25.992192Z",
     "shell.execute_reply.started": "2022-05-07T10:55:19.712143Z"
    },
    "hidden": true
   },
   "outputs": [],
   "source": [
    "plot_prc(model_rf,X_test,y_test)"
   ]
  },
  {
   "cell_type": "code",
   "execution_count": null,
   "metadata": {
    "_kg_hide-input": true,
    "execution": {
     "iopub.execute_input": "2022-05-07T10:55:25.995226Z",
     "iopub.status.busy": "2022-05-07T10:55:25.994479Z",
     "iopub.status.idle": "2022-05-07T10:55:32.315133Z",
     "shell.execute_reply": "2022-05-07T10:55:32.313252Z",
     "shell.execute_reply.started": "2022-05-07T10:55:25.995176Z"
    },
    "hidden": true
   },
   "outputs": [],
   "source": [
    "plot_roc(model_rf,X_test,y_test)"
   ]
  },
  {
   "cell_type": "markdown",
   "metadata": {
    "hidden": true
   },
   "source": [
    "#### Logistic Regression"
   ]
  },
  {
   "cell_type": "code",
   "execution_count": 125,
   "metadata": {
    "_kg_hide-input": true,
    "execution": {
     "iopub.execute_input": "2022-05-07T10:55:32.316409Z",
     "iopub.status.busy": "2022-05-07T10:55:32.316213Z",
     "iopub.status.idle": "2022-05-07T10:55:33.604064Z",
     "shell.execute_reply": "2022-05-07T10:55:33.603147Z",
     "shell.execute_reply.started": "2022-05-07T10:55:32.316383Z"
    },
    "hidden": true
   },
   "outputs": [
    {
     "name": "stdout",
     "output_type": "stream",
     "text": [
      "Accuracy: 0.7511530824434404\n",
      "\n",
      "\t\t\tClassification report\n",
      "               precision    recall  f1-score   support\n",
      "\n",
      "           0       0.97      0.75      0.85     58367\n",
      "           1       0.23      0.78      0.35      5592\n",
      "\n",
      "    accuracy                           0.75     63959\n",
      "   macro avg       0.60      0.76      0.60     63959\n",
      "weighted avg       0.91      0.75      0.80     63959\n",
      "\n",
      "auc  0.7637289862848745\n"
     ]
    }
   ],
   "source": [
    "model_lr = LogisticRegression(random_state=0,class_weight='balanced', max_iter=800)\n",
    "\n",
    "model_lr.fit(X_train, y_train)    \n",
    "\n",
    "y_pred = model_lr.predict(X_test)\n",
    "print(\"Accuracy:\",accuracy_score(y_test, y_pred))\n",
    "print(\"\\n\\t\\t\\tClassification report\\n\",classification_report(y_test, y_pred))\n",
    "print(\"auc \" ,roc_auc_score(y_test, y_pred))"
   ]
  },
  {
   "cell_type": "code",
   "execution_count": null,
   "metadata": {
    "_kg_hide-input": true,
    "execution": {
     "iopub.execute_input": "2022-05-07T10:55:33.605682Z",
     "iopub.status.busy": "2022-05-07T10:55:33.605385Z",
     "iopub.status.idle": "2022-05-07T10:55:33.916243Z",
     "shell.execute_reply": "2022-05-07T10:55:33.915428Z",
     "shell.execute_reply.started": "2022-05-07T10:55:33.60564Z"
    },
    "hidden": true
   },
   "outputs": [],
   "source": [
    "plot_confusion_matrix(model_lr,X_test,y_test,normalize=True)"
   ]
  },
  {
   "cell_type": "code",
   "execution_count": null,
   "metadata": {
    "_kg_hide-input": true,
    "execution": {
     "iopub.execute_input": "2022-05-07T10:55:33.917523Z",
     "iopub.status.busy": "2022-05-07T10:55:33.917289Z",
     "iopub.status.idle": "2022-05-07T10:55:34.288446Z",
     "shell.execute_reply": "2022-05-07T10:55:34.287561Z",
     "shell.execute_reply.started": "2022-05-07T10:55:33.917492Z"
    },
    "hidden": true
   },
   "outputs": [],
   "source": [
    "plot_prc(model_lr,X_test,y_test)"
   ]
  },
  {
   "cell_type": "markdown",
   "metadata": {
    "hidden": true
   },
   "source": [
    "#### Naive Bayes"
   ]
  },
  {
   "cell_type": "code",
   "execution_count": null,
   "metadata": {
    "_kg_hide-input": true,
    "execution": {
     "iopub.execute_input": "2022-05-07T10:55:34.290111Z",
     "iopub.status.busy": "2022-05-07T10:55:34.289901Z",
     "iopub.status.idle": "2022-05-07T10:55:34.553598Z",
     "shell.execute_reply": "2022-05-07T10:55:34.552231Z",
     "shell.execute_reply.started": "2022-05-07T10:55:34.290084Z"
    },
    "hidden": true
   },
   "outputs": [],
   "source": [
    "model_nb = GaussianNB()\n",
    "model_nb.fit(X_train, y_train)\n",
    "\n",
    "y_pred=model_nb.predict(X_test)\n",
    "\n",
    "print(\"Accuracy:\",accuracy_score(y_test, y_pred))\n",
    "print(\"\\n\\t\\t\\tClassification report\\n\",classification_report(y_test, y_pred))"
   ]
  },
  {
   "cell_type": "code",
   "execution_count": null,
   "metadata": {
    "_kg_hide-input": true,
    "execution": {
     "iopub.execute_input": "2022-05-07T10:55:34.557088Z",
     "iopub.status.busy": "2022-05-07T10:55:34.556832Z",
     "iopub.status.idle": "2022-05-07T10:55:34.838852Z",
     "shell.execute_reply": "2022-05-07T10:55:34.838001Z",
     "shell.execute_reply.started": "2022-05-07T10:55:34.557057Z"
    },
    "hidden": true
   },
   "outputs": [],
   "source": [
    "plot_confusion_matrix(model_nb,X_test,y_test,normalize=True)"
   ]
  },
  {
   "cell_type": "code",
   "execution_count": null,
   "metadata": {
    "_kg_hide-input": true,
    "execution": {
     "iopub.execute_input": "2022-05-07T10:55:34.841231Z",
     "iopub.status.busy": "2022-05-07T10:55:34.840369Z",
     "iopub.status.idle": "2022-05-07T10:55:35.180796Z",
     "shell.execute_reply": "2022-05-07T10:55:35.179986Z",
     "shell.execute_reply.started": "2022-05-07T10:55:34.841184Z"
    },
    "hidden": true
   },
   "outputs": [],
   "source": [
    "plot_prc(model_nb,X_test,y_test)"
   ]
  },
  {
   "cell_type": "markdown",
   "metadata": {
    "hidden": true
   },
   "source": [
    "## Conclusion"
   ]
  },
  {
   "cell_type": "markdown",
   "metadata": {
    "hidden": true
   },
   "source": [
    "Random Forest is performing the best out of the other models on this dataset. It is giving us a good recall for the minority class and AUC for the PR curve is also the best amongst others.Based on this modelling I have made a web app using Flask and deployed it on [AWS](http://ec2-54-91-30-108.compute-1.amazonaws.com:8080/) (and [Heroku](https://risk-heart-disease.herokuapp.com/)) where you could answer some questions about yourself and have the model predict whether you have a risk of heart disease or not. Check out the project [here](https://github.com/prateek-py/Heart-disease-risk-Prediction)"
   ]
  },
  {
   "cell_type": "code",
   "execution_count": null,
   "metadata": {},
   "outputs": [],
   "source": []
  }
 ],
 "metadata": {
  "kernelspec": {
   "display_name": "Python 3 (ipykernel)",
   "language": "python",
   "name": "python3"
  },
  "language_info": {
   "codemirror_mode": {
    "name": "ipython",
    "version": 3
   },
   "file_extension": ".py",
   "mimetype": "text/x-python",
   "name": "python",
   "nbconvert_exporter": "python",
   "pygments_lexer": "ipython3",
   "version": "3.9.6"
  }
 },
 "nbformat": 4,
 "nbformat_minor": 4
}
